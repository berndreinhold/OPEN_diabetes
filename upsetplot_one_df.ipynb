{
 "cells": [
  {
   "cell_type": "code",
   "execution_count": 7,
   "metadata": {},
   "outputs": [],
   "source": [
    "import pandas as pd\n",
    "from matplotlib_venn import venn3, venn3_circles\n",
    "import os\n",
    "import json\n",
    "from matplotlib import pyplot as plt\n",
    "import upsetplot as usp"
   ]
  },
  {
   "cell_type": "code",
   "execution_count": 8,
   "metadata": {},
   "outputs": [
    {
     "name": "stdout",
     "output_type": "stream",
     "text": [
      "['OpenAPS (NS)', 'OPENonOH (NS)', 'OPENonOH (AAPS-Uploader)']\n"
     ]
    }
   ],
   "source": [
    "# load the config files and the variables from the upset_plot-section of the config file\n",
    "config_path = \"\"\n",
    "config_filename = \"config_all_3files.json\"\n",
    "f = open(os.path.join(config_path, config_filename))\n",
    "IO_json = json.load(f)\n",
    "\n",
    "#var = \"per_user_id\"\n",
    "var = \"per_user_id_date\"\n",
    "root_data_dir_name = IO_json[\"root_data_dir_name\"]\n",
    "input = IO_json[\"upset_plot\"][\"input\"][var]\n",
    "dataset_labels = IO_json[\"upset_plot\"][\"dataset_labels\"]\n",
    "output = IO_json[\"upset_plot\"][\"output\"][var]\n",
    "\n",
    "cols = []\n",
    "for ds in dataset_labels:\n",
    "    cols.append(dataset_labels[ds])\n",
    "print(cols)"
   ]
  },
  {
   "cell_type": "code",
   "execution_count": 9,
   "metadata": {},
   "outputs": [],
   "source": [
    "\n",
    "df = pd.read_csv(os.path.join(root_data_dir_name, input[0], input[1]), header=0, parse_dates=[1], index_col=0)\n",
    "for i in range(3):\n",
    "    df[cols[i]] = ~pd.isna(df[f\"user_id_{i+1}\"])\n",
    "\n",
    "df = df[cols]\n"
   ]
  },
  {
   "cell_type": "code",
   "execution_count": 10,
   "metadata": {},
   "outputs": [
    {
     "name": "stdout",
     "output_type": "stream",
     "text": [
      "OpenAPS (NS)  OPENonOH (NS)  OPENonOH (AAPS-Uploader)\n",
      "True          False          False                       1.0\n",
      "                             False                       1.0\n",
      "                             False                       1.0\n",
      "                             False                       1.0\n",
      "                             False                       1.0\n",
      "                                                        ... \n",
      "False         False          True                        1.0\n",
      "                             True                        1.0\n",
      "                             True                        1.0\n",
      "                             True                        1.0\n",
      "                             True                        1.0\n",
      "Name: ones, Length: 56962, dtype: float64\n"
     ]
    }
   ],
   "source": [
    "\n",
    "df2 = usp.from_indicators(df)\n",
    "print(df2)\n"
   ]
  },
  {
   "cell_type": "code",
   "execution_count": 11,
   "metadata": {},
   "outputs": [
    {
     "name": "stdout",
     "output_type": "stream",
     "text": [
      "created image: /home/reinhold/Daten/OPEN/Duplicate_persons_data_per_user_id_date.png\n"
     ]
    },
    {
     "data": {
      "text/plain": [
       "<Figure size 1080x1080 with 0 Axes>"
      ]
     },
     "metadata": {},
     "output_type": "display_data"
    },
    {
     "data": {
      "image/png": "[encoded data removed]",
      "text/plain": [
       "<Figure size 448x288 with 4 Axes>"
      ]
     },
     "metadata": {},
     "output_type": "display_data"
    }
   ],
   "source": [
    "plt.rcParams.update({\"figure.facecolor\" : (1.0, 1.0, 1.0, 1.0), \"savefig.facecolor\": (1.0, 1.0, 1.0, 1.0)})\n",
    "plt.figure(figsize=(15,15))\n",
    "plt.tight_layout()\n",
    "usp.plot(df2, subset_size='count')\n",
    "plt.title(output[2])\n",
    "plt.savefig(os.path.join(root_data_dir_name, output[0], output[1]), bbox_inches='tight')\n",
    "print(f\"created image: {os.path.join(root_data_dir_name, output[0], output[1])}\")\n",
    "\n"
   ]
  },
  {
   "cell_type": "code",
   "execution_count": 12,
   "metadata": {},
   "outputs": [],
   "source": [
    "# upset = usp.UpSet(df2, subset_size='count', intersection_plot_elements=3)\n",
    "# upset.plot()\n",
    "#upset.add_catplot(value='median_value', kind='strip', color='blue')\n",
    "#upset.add_catplot(value='AGE', kind='strip', color='black')\n",
    "\n",
    "# for venn3 diagramm\n",
    "#df3 = df.groupby([f\"cat{i}\" for i in range(3)], dropna=False).agg(\"count\")\n",
    "#print(df3)\n",
    "\n",
    "#venn3(subsets = (data[\"100\"], data[\"010\"], data[\"110\"], data[\"001\"], data[\"101\"], data[\"011\"], data[\"111\"]), set_labels=(\"OPENonOH\", \"OpenAPS_NS\", \"OPENonOH_AAPS_Uploader\"), alpha=0.5)"
   ]
  }
 ],
 "metadata": {
  "interpreter": {
   "hash": "916dbcbb3f70747c44a77c7bcd40155683ae19c65e1c03b4aa3499c5328201f1"
  },
  "kernelspec": {
   "display_name": "Python 3.8.10 64-bit",
   "language": "python",
   "name": "python3"
  },
  "language_info": {
   "codemirror_mode": {
    "name": "ipython",
    "version": 3
   },
   "file_extension": ".py",
   "mimetype": "text/x-python",
   "name": "python",
   "nbconvert_exporter": "python",
   "pygments_lexer": "ipython3",
   "version": "3.8.10"
  },
  "orig_nbformat": 4
 },
 "nbformat": 4,
 "nbformat_minor": 2
}
