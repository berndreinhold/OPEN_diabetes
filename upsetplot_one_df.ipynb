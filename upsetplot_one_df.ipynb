{
 "cells": [
  {
   "cell_type": "code",
   "execution_count": 1,
   "metadata": {},
   "outputs": [],
   "source": [
    "import pandas as pd\n",
    "from matplotlib_venn import venn3, venn3_circles\n",
    "import os\n",
    "import json\n",
    "from matplotlib import pyplot as plt\n",
    "import upsetplot as usp"
   ]
  },
  {
   "cell_type": "code",
   "execution_count": 2,
   "metadata": {},
   "outputs": [
    {
     "name": "stdout",
     "output_type": "stream",
     "text": [
      "['OpenAPS (NS)', 'OPENonOH (NS)', 'OPENonOH (AAPS-Uploader)']\n"
     ]
    }
   ],
   "source": [
    "# load the config files and the variables from the upset_plot-section of the config file\n",
    "config_path = \"\"\n",
    "config_filename = \"config_all_3files.json\"\n",
    "f = open(os.path.join(config_path, config_filename))\n",
    "IO_json = json.load(f)\n",
    "\n",
    "#var = \"per_user_id\"\n",
    "var = \"per_user_id_date\"\n",
    "root_data_dir_name = IO_json[\"root_data_dir_name\"]\n",
    "input = IO_json[\"upset_plot\"][\"input\"][var]\n",
    "dataset_labels = IO_json[\"upset_plot\"][\"dataset_labels\"]\n",
    "output = IO_json[\"upset_plot\"][\"output\"][var]\n",
    "\n",
    "cols = []\n",
    "for ds in dataset_labels:\n",
    "    cols.append(dataset_labels[ds])\n",
    "print(cols)"
   ]
  },
  {
   "cell_type": "code",
   "execution_count": 3,
   "metadata": {},
   "outputs": [],
   "source": [
    "\n",
    "df = pd.read_csv(os.path.join(root_data_dir_name, input[0], input[1]), header=0, parse_dates=[1], index_col=0)\n",
    "for i in range(3):\n",
    "    df[cols[i]] = ~pd.isna(df[f\"user_id_{i+1}\"])\n",
    "\n",
    "df1 = df[cols]\n"
   ]
  },
  {
   "cell_type": "code",
   "execution_count": 4,
   "metadata": {},
   "outputs": [
    {
     "name": "stdout",
     "output_type": "stream",
     "text": [
      "OpenAPS (NS)  OPENonOH (NS)  OPENonOH (AAPS-Uploader)\n",
      "True          False          False                       1.0\n",
      "                             False                       1.0\n",
      "                             False                       1.0\n",
      "                             False                       1.0\n",
      "                             False                       1.0\n",
      "                                                        ... \n",
      "False         False          True                        1.0\n",
      "                             True                        1.0\n",
      "                             True                        1.0\n",
      "                             True                        1.0\n",
      "                             True                        1.0\n",
      "Name: ones, Length: 56962, dtype: float64\n"
     ]
    }
   ],
   "source": [
    "\n",
    "df2 = usp.from_indicators(df1)\n",
    "print(df2)\n"
   ]
  },
  {
   "cell_type": "code",
   "execution_count": 5,
   "metadata": {},
   "outputs": [
    {
     "name": "stdout",
     "output_type": "stream",
     "text": [
      "created image: /home/reinhold/Daten/OPEN/Duplicate_persons_data_per_user_id_date.png\n"
     ]
    },
    {
     "data": {
      "text/plain": [
       "<Figure size 1080x1080 with 0 Axes>"
      ]
     },
     "metadata": {},
     "output_type": "display_data"
    },
    {
     "data": {
      "image/png": "[encoded data removed]",
      "text/plain": [
       "<Figure size 448x288 with 4 Axes>"
      ]
     },
     "metadata": {},
     "output_type": "display_data"
    }
   ],
   "source": [
    "plt.rcParams.update({\"figure.facecolor\" : (1.0, 1.0, 1.0, 1.0), \"savefig.facecolor\": (1.0, 1.0, 1.0, 1.0)})\n",
    "plt.figure(figsize=(15,15))\n",
    "plt.tight_layout()\n",
    "usp.plot(df2, subset_size='count')\n",
    "plt.title(output[2])\n",
    "plt.savefig(os.path.join(root_data_dir_name, output[0], output[1]), bbox_inches='tight')\n",
    "print(f\"created image: {os.path.join(root_data_dir_name, output[0], output[1])}\")\n",
    "\n"
   ]
  },
  {
   "cell_type": "code",
   "execution_count": 6,
   "metadata": {},
   "outputs": [],
   "source": [
    "# upset = usp.UpSet(df2, subset_size='count', intersection_plot_elements=3)\n",
    "# upset.plot()\n",
    "#upset.add_catplot(value='median_value', kind='strip', color='blue')\n",
    "#upset.add_catplot(value='AGE', kind='strip', color='black')\n"
   ]
  },
  {
   "cell_type": "code",
   "execution_count": 27,
   "metadata": {},
   "outputs": [
    {
     "name": "stdout",
     "output_type": "stream",
     "text": [
      "OpenAPS (NS)  OPENonOH (NS)  OPENonOH (AAPS-Uploader)\n",
      "False         False          True                        10915\n",
      "              True           False                       16137\n",
      "                             True                          648\n",
      "True          False          False                       23782\n",
      "              True           False                        5115\n",
      "                             True                          365\n",
      "Name: ones, dtype: int64\n"
     ]
    }
   ],
   "source": [
    "# for venn3 diagramm\n",
    "df_v1 = df2.groupby(cols, dropna=False).agg(\"count\")\n",
    "print(df_v1)\n",
    "#print(type(df_v1))\n",
    "#df_v1.info()\n"
   ]
  },
  {
   "cell_type": "code",
   "execution_count": 26,
   "metadata": {},
   "outputs": [
    {
     "name": "stdout",
     "output_type": "stream",
     "text": [
      "(False, False, True) 10915\n",
      "(False, True, False) 16137\n",
      "(False, True, True) 648\n",
      "(True, False, False) 23782\n",
      "(True, True, False) 5115\n",
      "(True, True, True) 365\n"
     ]
    },
    {
     "data": {
      "text/plain": [
       "<matplotlib_venn._common.VennDiagram at 0x7fee55144b50>"
      ]
     },
     "execution_count": 26,
     "metadata": {},
     "output_type": "execute_result"
    },
    {
     "data": {
      "image/png": "[encoded data removed]",
      "text/plain": [
       "<Figure size 432x288 with 1 Axes>"
      ]
     },
     "metadata": {},
     "output_type": "display_data"
    }
   ],
   "source": [
    "#print(df_v1.index)\n",
    "#print(df_v1.index.names)\n",
    "\n",
    "data = {}\n",
    "for i in df_v1.index:\n",
    "    print(i, df_v1.loc[i])\n",
    "    i_str = \"\".join([str(int(i_k)) for i_k in i])\n",
    "    data[i_str] = df_v1.loc[i]\n",
    "\n",
    "plt.figure(figsize=(15,15))\n",
    "plt.tight_layout()\n",
    "venn3(subsets = data, set_labels=df_v1.index.names)\n",
    "plt.title(output[2])\n",
    "plt.savefig(os.path.join(root_data_dir_name, output[0], output[1]), bbox_inches='tight')\n",
    "print(f\"created image: {os.path.join(root_data_dir_name, output[0], output[1])}\")\n",
    "\n",
    "#venn3(subsets = (data[\"100\"], data[\"010\"], data[\"110\"], data[\"001\"], data[\"101\"], data[\"011\"], data[\"111\"]), set_labels=(\"OPENonOH\", \"OpenAPS_NS\", \"OPENonOH_AAPS_Uploader\"), alpha=0.5)"
   ]
  },
  {
   "cell_type": "code",
   "execution_count": 13,
   "metadata": {},
   "outputs": [
    {
     "name": "stdout",
     "output_type": "stream",
     "text": [
      "       OpenAPS (NS)  OPENonOH (NS)  OPENonOH (AAPS-Uploader)\n",
      "23528          True           True                      True\n",
      "23529          True           True                      True\n",
      "23530          True           True                      True\n",
      "23531          True           True                      True\n",
      "23532          True           True                      True\n",
      "...             ...            ...                       ...\n",
      "15653          True           True                      True\n",
      "15654          True           True                      True\n",
      "15656          True           True                      True\n",
      "15657          True           True                      True\n",
      "15658          True           True                      True\n",
      "\n",
      "[365 rows x 3 columns]\n"
     ]
    }
   ],
   "source": [
    "df4 = df1[(df1[cols[0]]==True) & (df1[cols[1]]==True) & (df1[cols[2]]==True)]\n",
    "print(df4)"
   ]
  },
  {
   "cell_type": "code",
   "execution_count": 23,
   "metadata": {},
   "outputs": [
    {
     "ename": "TypeError",
     "evalue": "int() argument must be a string, a bytes-like object or a number, not 'tuple'",
     "output_type": "error",
     "traceback": [
      "\u001b[0;31m---------------------------------------------------------------------------\u001b[0m",
      "\u001b[0;31mTypeError\u001b[0m                                 Traceback (most recent call last)",
      "\u001b[0;32m<ipython-input-23-f5f18d792134>\u001b[0m in \u001b[0;36m<module>\u001b[0;34m\u001b[0m\n\u001b[1;32m      1\u001b[0m \u001b[0mx\u001b[0m \u001b[0;34m=\u001b[0m \u001b[0;34m(\u001b[0m\u001b[0;32mFalse\u001b[0m\u001b[0;34m,\u001b[0m \u001b[0;32mTrue\u001b[0m\u001b[0;34m,\u001b[0m \u001b[0;32mTrue\u001b[0m\u001b[0;34m)\u001b[0m\u001b[0;34m\u001b[0m\u001b[0;34m\u001b[0m\u001b[0m\n\u001b[0;32m----> 2\u001b[0;31m \u001b[0mint\u001b[0m\u001b[0;34m(\u001b[0m\u001b[0mx\u001b[0m\u001b[0;34m)\u001b[0m\u001b[0;34m\u001b[0m\u001b[0;34m\u001b[0m\u001b[0m\n\u001b[0m",
      "\u001b[0;31mTypeError\u001b[0m: int() argument must be a string, a bytes-like object or a number, not 'tuple'"
     ]
    }
   ],
   "source": [
    "x = (False, True, True)\n",
    "int(x)"
   ]
  }
 ],
 "metadata": {
  "interpreter": {
   "hash": "916dbcbb3f70747c44a77c7bcd40155683ae19c65e1c03b4aa3499c5328201f1"
  },
  "kernelspec": {
   "display_name": "Python 3.8.10 64-bit",
   "language": "python",
   "name": "python3"
  },
  "language_info": {
   "codemirror_mode": {
    "name": "ipython",
    "version": 3
   },
   "file_extension": ".py",
   "mimetype": "text/x-python",
   "name": "python",
   "nbconvert_exporter": "python",
   "pygments_lexer": "ipython3",
   "version": "3.8.10"
  },
  "orig_nbformat": 4
 },
 "nbformat": 4,
 "nbformat_minor": 2
}
