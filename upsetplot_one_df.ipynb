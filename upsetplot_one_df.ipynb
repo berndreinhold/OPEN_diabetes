{
 "cells": [
  {
   "cell_type": "code",
   "execution_count": 89,
   "metadata": {},
   "outputs": [],
   "source": [
    "import pandas as pd\n",
    "from matplotlib_venn import venn3, venn3_circles\n",
    "import os\n",
    "from matplotlib import pyplot as plt\n",
    "import upsetplot as usp"
   ]
  },
  {
   "cell_type": "code",
   "execution_count": 92,
   "metadata": {},
   "outputs": [],
   "source": [
    "# OpenAPS_NS, OPENonOH_NS\n",
    "# OPENonOH_AAPS_Uploader, OPENonOH_NS\n",
    "in_dir = \"/home/reinhold/Daten/OPEN/\"\n",
    "\n",
    "in_files = \"duplicates_person_id_OPENonOH_AAPS_Uploader_OPENonOH.csv\", \"duplicates_person_id_OpenAPS_NS_OPENonOH.csv\", \\\n",
    "    \"duplicates_person_id_OpenAPS_NS_OPENonOH_AAPS_Uploader.csv\"\n",
    "#in_files = \"duplicates_merged_all_OPENonOH_AAPS_Uploader_OPENonOH.csv\", \"duplicates_merged_all_OpenAPS_NS_OPENonOH.csv\", \\\n",
    "#    \"duplicates_merged_all_OpenAPS_NS_OPENonOH_AAPS_Uploader.csv\"\n",
    "# var = \"date\"  \n",
    "var = \"id\"\n",
    "# out_image_name = \"duplicate_days.png\" \n",
    "out_image_name = \"duplicate_persons.png\"\n",
    "# out_img_title = \"days in the respective datasets\"\n",
    "out_img_title = \"persons in the respective datasets\"\n"
   ]
  },
  {
   "cell_type": "code",
   "execution_count": 93,
   "metadata": {},
   "outputs": [
    {
     "name": "stdout",
     "output_type": "stream",
     "text": [
      "     dataset  user_id_ds1  user_id_ds2   id\n",
      "312        3    1104400.0    1104400.0    0\n",
      "819        3    2773391.0    2773391.0    1\n",
      "1511       3    8352625.0    8352625.0    2\n",
      "5506       3    8814820.0    8814820.0    3\n",
      "884        3    9612394.0    9612394.0    4\n",
      "...      ...          ...          ...  ...\n",
      "89         2          NaN   37159654.0  106\n",
      "90         2          NaN   40974871.0  107\n",
      "91         2          NaN   98062634.0  108\n",
      "92         2          NaN   54943175.0  109\n",
      "93         2          NaN   21316466.0  110\n",
      "\n",
      "[111 rows x 4 columns]\n",
      "   dataset  id\n",
      "0        1  54\n",
      "1        2  40\n",
      "2        3  17\n",
      "      dataset  user_id_ds1  user_id_ds2   id\n",
      "4416        3   14092221.0   20104403.0    0\n",
      "23657       3   15634563.0   34208593.0    1\n",
      "8389        3   24448124.0   50641121.0    2\n",
      "23492       3   27526291.0   77770642.0    3\n",
      "20714       3   54280576.0    8814820.0    4\n",
      "...       ...          ...          ...  ...\n",
      "112         2          NaN   40974871.0  129\n",
      "113         2          NaN   98062634.0  130\n",
      "114         2          NaN    9612394.0  131\n",
      "115         2          NaN   26481229.0  132\n",
      "116         2          NaN   93708481.0  133\n",
      "\n",
      "[134 rows x 4 columns]\n",
      "   dataset  id\n",
      "0        1  77\n",
      "1        2  40\n",
      "2        3  17\n",
      "      dataset  user_id_ds1  user_id_ds2   id\n",
      "23494       3   27526291.0   77770642.0    0\n",
      "20714       3   54280576.0    8814820.0    1\n",
      "25142       3   63725802.0    1104400.0    2\n",
      "20642       3   70454270.0   72492017.0    3\n",
      "1597        3   89032650.0   99868978.0    4\n",
      "...       ...          ...          ...  ...\n",
      "150         2          NaN     752599.0  155\n",
      "151         2          NaN   38625719.0  156\n",
      "152         2          NaN   76596101.0  157\n",
      "153         2          NaN   91391413.0  158\n",
      "154         2          NaN   86349907.0  159\n",
      "\n",
      "[160 rows x 4 columns]\n",
      "   dataset  id\n",
      "0        1  89\n",
      "1        2  66\n",
      "2        3   5\n"
     ]
    }
   ],
   "source": [
    "\n",
    "df, df_person_count = [],[]\n",
    "\n",
    "for i, in_file in enumerate(in_files):\n",
    "    df.append(pd.read_csv(os.path.join(in_dir, in_file), header=0, parse_dates=[1], index_col=0))\n",
    "    print(df[i])\n",
    "\n",
    "    out = df[i]\n",
    "    out.loc[pd.isnull(out[\"user_id_ds2\"]), \"dataset\"] = 1  # ds1\n",
    "    out.loc[pd.isnull(out[\"user_id_ds1\"]), \"dataset\"] = 2  # ds2\n",
    "    out.loc[~(pd.isnull(out[\"user_id_ds2\"]) | pd.isnull(out[\"user_id_ds1\"])), \"dataset\"] = 3  # duplicates\n",
    "\n",
    "\n",
    "    df[i] = df[i][[\"dataset\", var]]\n",
    "    #df[i][\"dataset\"] = df[i][\"dataset\"].astype(int)\n",
    "    df_person_count.append(df[i].groupby(\"dataset\", as_index=False, dropna=False).agg(\"count\"))\n",
    "    print(df_person_count[i])\n",
    "\n"
   ]
  },
  {
   "cell_type": "code",
   "execution_count": 91,
   "metadata": {},
   "outputs": [
    {
     "name": "stdout",
     "output_type": "stream",
     "text": [
      "{'OPENonOH_AAPS_Uploader': 66, 'OPENonOH': 40, 'duplicates_OPENonOH_AAPS_Uploader_OPENonOH': 17, 'OpenAPS_NS': 89, 'duplicates_OpenAPS_NS_OPENonOH': 17, 'duplicates_OpenAPS_NS_OPENonOH_AAPS_Uploader': 5}\n"
     ]
    }
   ],
   "source": [
    "df = df_person_count[0]\n",
    "counts = {\"OPENonOH_AAPS_Uploader\" : df[df[\"dataset\"]==1][var].values[0], \"OPENonOH\" : df[df[\"dataset\"]==2][var].values[0]}\n",
    "counts[\"duplicates_OPENonOH_AAPS_Uploader_OPENonOH\"] = df[df[\"dataset\"]==3][var].values[0]\n",
    "df = df_person_count[1]\n",
    "counts[\"OpenAPS_NS\"] = df[df[\"dataset\"]==1][var].astype(int).values[0]\n",
    "counts[\"OPENonOH\"] = df[df[\"dataset\"]==2][var].astype(int).values[0]\n",
    "counts[\"duplicates_OpenAPS_NS_OPENonOH\"] = df[df[\"dataset\"]==3][var].astype(int).values[0]\n",
    "df = df_person_count[2]\n",
    "counts[\"OpenAPS_NS\"] = df[df[\"dataset\"]==1][var].astype(int).values[0]\n",
    "counts[\"OPENonOH_AAPS_Uploader\"] = df[df[\"dataset\"]==2][var].astype(int).values[0]\n",
    "counts[\"duplicates_OpenAPS_NS_OPENonOH_AAPS_Uploader\"] = df[df[\"dataset\"]==3][var].astype(int).values[0]\n",
    "print(counts)"
   ]
  },
  {
   "cell_type": "code",
   "execution_count": 85,
   "metadata": {},
   "outputs": [
    {
     "name": "stdout",
     "output_type": "stream",
     "text": [
      "{'100': 66, '010': 40, '001': 89, '111': 0, '110': 17, '101': 17, '011': 5}\n"
     ]
    }
   ],
   "source": [
    "data = {\"100\" : counts[\"OPENonOH_AAPS_Uploader\"], \"010\" : counts[\"OPENonOH\"], \"001\" : counts[\"OpenAPS_NS\"], \"111\" : 0}\n",
    "data[\"110\"] = counts[\"duplicates_OPENonOH_AAPS_Uploader_OPENonOH\"]\n",
    "data[\"101\"] = counts[\"duplicates_OpenAPS_NS_OPENonOH\"]\n",
    "data[\"011\"] = counts[\"duplicates_OpenAPS_NS_OPENonOH_AAPS_Uploader\"]\n",
    "print(data)\n"
   ]
  },
  {
   "cell_type": "code",
   "execution_count": 86,
   "metadata": {},
   "outputs": [
    {
     "data": {
      "image/png": "[encoded data removed]",
      "text/plain": [
       "<Figure size 576x576 with 1 Axes>"
      ]
     },
     "metadata": {},
     "output_type": "display_data"
    }
   ],
   "source": [
    "plt.figure(figsize=(8,8))\n",
    "#venn3(subsets = (data[\"100\"], data[\"010\"], data[\"110\"], data[\"001\"], data[\"101\"], data[\"011\"], data[\"111\"]), set_labels=(\"OPENonOH\", \"OpenAPS_NS\", \"OPENonOH_AAPS_Uploader\"), alpha=0.5)\n",
    "venn3(subsets = (data[\"100\"], data[\"010\"], data[\"110\"], data[\"001\"], data[\"101\"], data[\"011\"], data[\"111\"]), set_labels=(\"OPENonOH\", \"OpenAPS_NS\", \"OPENonOH_AAPS_Uploader\"), alpha=0.5)\n",
    "# venn3((100, 010, 110,001,101,011,111)\n",
    "plt.title(out_img_title)\n",
    "plt.savefig(out_image_name)\n"
   ]
  },
  {
   "cell_type": "code",
   "execution_count": 88,
   "metadata": {},
   "outputs": [
    {
     "ename": "AttributeError",
     "evalue": "'dict' object has no attribute 'ndim'",
     "output_type": "error",
     "traceback": [
      "\u001b[0;31m---------------------------------------------------------------------------\u001b[0m",
      "\u001b[0;31mAttributeError\u001b[0m                            Traceback (most recent call last)",
      "\u001b[0;32m<ipython-input-88-7056dc95f1ed>\u001b[0m in \u001b[0;36m<module>\u001b[0;34m\u001b[0m\n\u001b[0;32m----> 1\u001b[0;31m \u001b[0musp\u001b[0m\u001b[0;34m.\u001b[0m\u001b[0mplot\u001b[0m\u001b[0;34m(\u001b[0m\u001b[0mdata\u001b[0m\u001b[0;34m)\u001b[0m\u001b[0;34m\u001b[0m\u001b[0;34m\u001b[0m\u001b[0m\n\u001b[0m",
      "\u001b[0;32m~/.local/lib/python3.8/site-packages/upsetplot/plotting.py\u001b[0m in \u001b[0;36mplot\u001b[0;34m(data, fig, **kwargs)\u001b[0m\n\u001b[1;32m   1019\u001b[0m         \u001b[0mKeys\u001b[0m \u001b[0mare\u001b[0m \u001b[0;34m'matrix'\u001b[0m\u001b[0;34m,\u001b[0m \u001b[0;34m'intersections'\u001b[0m\u001b[0;34m,\u001b[0m \u001b[0;34m'totals'\u001b[0m\u001b[0;34m,\u001b[0m \u001b[0;34m'shading'\u001b[0m\u001b[0;34m\u001b[0m\u001b[0;34m\u001b[0m\u001b[0m\n\u001b[1;32m   1020\u001b[0m     \"\"\"\n\u001b[0;32m-> 1021\u001b[0;31m     \u001b[0;32mreturn\u001b[0m \u001b[0mUpSet\u001b[0m\u001b[0;34m(\u001b[0m\u001b[0mdata\u001b[0m\u001b[0;34m,\u001b[0m \u001b[0;34m**\u001b[0m\u001b[0mkwargs\u001b[0m\u001b[0;34m)\u001b[0m\u001b[0;34m.\u001b[0m\u001b[0mplot\u001b[0m\u001b[0;34m(\u001b[0m\u001b[0mfig\u001b[0m\u001b[0;34m)\u001b[0m\u001b[0;34m\u001b[0m\u001b[0;34m\u001b[0m\u001b[0m\n\u001b[0m",
      "\u001b[0;32m~/.local/lib/python3.8/site-packages/upsetplot/plotting.py\u001b[0m in \u001b[0;36m__init__\u001b[0;34m(self, data, orientation, sort_by, sort_categories_by, subset_size, sum_over, min_subset_size, max_subset_size, min_degree, max_degree, facecolor, other_dots_color, shading_color, with_lines, element_size, intersection_plot_elements, totals_plot_elements, show_counts, show_percentages)\u001b[0m\n\u001b[1;32m    414\u001b[0m \u001b[0;34m\u001b[0m\u001b[0m\n\u001b[1;32m    415\u001b[0m         (self.total, self._df, self.intersections,\n\u001b[0;32m--> 416\u001b[0;31m          \u001b[0mself\u001b[0m\u001b[0;34m.\u001b[0m\u001b[0mtotals\u001b[0m\u001b[0;34m)\u001b[0m \u001b[0;34m=\u001b[0m \u001b[0m_process_data\u001b[0m\u001b[0;34m(\u001b[0m\u001b[0mdata\u001b[0m\u001b[0;34m,\u001b[0m\u001b[0;34m\u001b[0m\u001b[0;34m\u001b[0m\u001b[0m\n\u001b[0m\u001b[1;32m    417\u001b[0m                                       \u001b[0msort_by\u001b[0m\u001b[0;34m=\u001b[0m\u001b[0msort_by\u001b[0m\u001b[0;34m,\u001b[0m\u001b[0;34m\u001b[0m\u001b[0;34m\u001b[0m\u001b[0m\n\u001b[1;32m    418\u001b[0m                                       \u001b[0msort_categories_by\u001b[0m\u001b[0;34m=\u001b[0m\u001b[0msort_categories_by\u001b[0m\u001b[0;34m,\u001b[0m\u001b[0;34m\u001b[0m\u001b[0;34m\u001b[0m\u001b[0m\n",
      "\u001b[0;32m~/.local/lib/python3.8/site-packages/upsetplot/plotting.py\u001b[0m in \u001b[0;36m_process_data\u001b[0;34m(df, sort_by, sort_categories_by, subset_size, sum_over, min_subset_size, max_subset_size, min_degree, max_degree, reverse)\u001b[0m\n\u001b[1;32m    150\u001b[0m                   \u001b[0msum_over\u001b[0m\u001b[0;34m,\u001b[0m \u001b[0mmin_subset_size\u001b[0m\u001b[0;34m=\u001b[0m\u001b[0;32mNone\u001b[0m\u001b[0;34m,\u001b[0m \u001b[0mmax_subset_size\u001b[0m\u001b[0;34m=\u001b[0m\u001b[0;32mNone\u001b[0m\u001b[0;34m,\u001b[0m\u001b[0;34m\u001b[0m\u001b[0;34m\u001b[0m\u001b[0m\n\u001b[1;32m    151\u001b[0m                   min_degree=None, max_degree=None, reverse=False):\n\u001b[0;32m--> 152\u001b[0;31m     \u001b[0mdf\u001b[0m\u001b[0;34m,\u001b[0m \u001b[0magg\u001b[0m \u001b[0;34m=\u001b[0m \u001b[0m_aggregate_data\u001b[0m\u001b[0;34m(\u001b[0m\u001b[0mdf\u001b[0m\u001b[0;34m,\u001b[0m \u001b[0msubset_size\u001b[0m\u001b[0;34m,\u001b[0m \u001b[0msum_over\u001b[0m\u001b[0;34m)\u001b[0m\u001b[0;34m\u001b[0m\u001b[0;34m\u001b[0m\u001b[0m\n\u001b[0m\u001b[1;32m    153\u001b[0m     \u001b[0mtotal\u001b[0m \u001b[0;34m=\u001b[0m \u001b[0magg\u001b[0m\u001b[0;34m.\u001b[0m\u001b[0msum\u001b[0m\u001b[0;34m(\u001b[0m\u001b[0;34m)\u001b[0m\u001b[0;34m\u001b[0m\u001b[0;34m\u001b[0m\u001b[0m\n\u001b[1;32m    154\u001b[0m     \u001b[0mdf\u001b[0m \u001b[0;34m=\u001b[0m \u001b[0m_check_index\u001b[0m\u001b[0;34m(\u001b[0m\u001b[0mdf\u001b[0m\u001b[0;34m)\u001b[0m\u001b[0;34m\u001b[0m\u001b[0;34m\u001b[0m\u001b[0m\n",
      "\u001b[0;32m~/.local/lib/python3.8/site-packages/upsetplot/plotting.py\u001b[0m in \u001b[0;36m_aggregate_data\u001b[0;34m(df, subset_size, sum_over)\u001b[0m\n\u001b[1;32m     28\u001b[0m         raise ValueError('subset_size should be one of %s. Got %r'\n\u001b[1;32m     29\u001b[0m                          % (_SUBSET_SIZE_VALUES, subset_size))\n\u001b[0;32m---> 30\u001b[0;31m     \u001b[0;32mif\u001b[0m \u001b[0mdf\u001b[0m\u001b[0;34m.\u001b[0m\u001b[0mndim\u001b[0m \u001b[0;34m==\u001b[0m \u001b[0;36m1\u001b[0m\u001b[0;34m:\u001b[0m\u001b[0;34m\u001b[0m\u001b[0;34m\u001b[0m\u001b[0m\n\u001b[0m\u001b[1;32m     31\u001b[0m         \u001b[0;31m# Series\u001b[0m\u001b[0;34m\u001b[0m\u001b[0;34m\u001b[0m\u001b[0;34m\u001b[0m\u001b[0m\n\u001b[1;32m     32\u001b[0m         \u001b[0minput_name\u001b[0m \u001b[0;34m=\u001b[0m \u001b[0mdf\u001b[0m\u001b[0;34m.\u001b[0m\u001b[0mname\u001b[0m\u001b[0;34m\u001b[0m\u001b[0;34m\u001b[0m\u001b[0m\n",
      "\u001b[0;31mAttributeError\u001b[0m: 'dict' object has no attribute 'ndim'"
     ]
    }
   ],
   "source": [
    "usp.plot(data)"
   ]
  },
  {
   "cell_type": "code",
   "execution_count": null,
   "metadata": {},
   "outputs": [],
   "source": []
  }
 ],
 "metadata": {
  "interpreter": {
   "hash": "916dbcbb3f70747c44a77c7bcd40155683ae19c65e1c03b4aa3499c5328201f1"
  },
  "kernelspec": {
   "display_name": "Python 3.8.10 64-bit",
   "language": "python",
   "name": "python3"
  },
  "language_info": {
   "codemirror_mode": {
    "name": "ipython",
    "version": 3
   },
   "file_extension": ".py",
   "mimetype": "text/x-python",
   "name": "python",
   "nbconvert_exporter": "python",
   "pygments_lexer": "ipython3",
   "version": "3.8.10"
  },
  "orig_nbformat": 4
 },
 "nbformat": 4,
 "nbformat_minor": 2
}
