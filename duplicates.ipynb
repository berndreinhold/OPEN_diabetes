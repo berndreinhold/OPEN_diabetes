{
 "cells": [
  {
   "cell_type": "code",
   "execution_count": 2,
   "metadata": {},
   "outputs": [
    {
     "name": "stdout",
     "output_type": "stream",
     "text": [
      "0.2.13\n"
     ]
    }
   ],
   "source": [
    "import json\n",
    "import os\n",
    "import pandas as pd\n",
    "import glob\n",
    "import pandasgui as pdg\n",
    "\n",
    "print(pdg.__version__)"
   ]
  },
  {
   "cell_type": "code",
   "execution_count": 13,
   "metadata": {},
   "outputs": [
    {
     "name": "stderr",
     "output_type": "stream",
     "text": [
      "PandasGUI INFO — pandasgui.gui — Opening PandasGUI\n"
     ]
    },
    {
     "name": "stdout",
     "output_type": "stream",
     "text": [
      "Index(['date', 'sgv_mean', 'sgv_std', 'sgv_min', 'sgv_max', 'sgv_count',\n",
      "       'filename', 'user_id', 'second_id'],\n",
      "      dtype='object')\n",
      "/home/reinhold/Daten/OPEN/duplicates_OpenAPS_OPENonOH.csv created\n",
      "<class 'pandas.core.frame.DataFrame'>\n",
      "RangeIndex: 7 entries, 0 to 6\n",
      "Data columns (total 11 columns):\n",
      " #   Column            Non-Null Count  Dtype\n",
      "---  ------            --------------  -----\n",
      " 0   user_id_OpenAPS   7 non-null      int64\n",
      " 1   user_id_OPENonOH  7 non-null      int64\n",
      " 2   d_a               7 non-null      int64\n",
      " 3   d_i               7 non-null      int64\n",
      " 4   d_i               7 non-null      int64\n",
      " 5   d_i               7 non-null      int64\n",
      " 6   d_i               7 non-null      int64\n",
      " 7   d_i               7 non-null      int64\n",
      " 8   s_e               7 non-null      int64\n",
      " 9   f_i               7 non-null      int64\n",
      " 10  f_i               7 non-null      int64\n",
      "dtypes: int64(11)\n",
      "memory usage: 744.0 bytes\n"
     ]
    },
    {
     "ename": "KeyError",
     "evalue": "\"['date_count'] not in index\"",
     "output_type": "error",
     "traceback": [
      "\u001b[0;31m---------------------------------------------------------------------------\u001b[0m",
      "\u001b[0;31mKeyError\u001b[0m                                  Traceback (most recent call last)",
      "\u001b[0;32m<ipython-input-13-135850e8f37b>\u001b[0m in \u001b[0;36m<module>\u001b[0;34m\u001b[0m\n\u001b[1;32m     34\u001b[0m \u001b[0mdf4\u001b[0m\u001b[0;34m.\u001b[0m\u001b[0mreset_index\u001b[0m\u001b[0;34m(\u001b[0m\u001b[0minplace\u001b[0m\u001b[0;34m=\u001b[0m\u001b[0;32mTrue\u001b[0m\u001b[0;34m)\u001b[0m\u001b[0;34m\u001b[0m\u001b[0;34m\u001b[0m\u001b[0m\n\u001b[1;32m     35\u001b[0m \u001b[0mdf4\u001b[0m\u001b[0;34m.\u001b[0m\u001b[0minfo\u001b[0m\u001b[0;34m(\u001b[0m\u001b[0;34m)\u001b[0m\u001b[0;34m\u001b[0m\u001b[0;34m\u001b[0m\u001b[0m\n\u001b[0;32m---> 36\u001b[0;31m \u001b[0mprint\u001b[0m\u001b[0;34m(\u001b[0m\u001b[0mdf4\u001b[0m\u001b[0;34m[\u001b[0m\u001b[0;34m[\u001b[0m\u001b[0;34m'user_id_OpenAPS'\u001b[0m\u001b[0;34m,\u001b[0m \u001b[0;34m'user_id_OPENonOH'\u001b[0m\u001b[0;34m,\u001b[0m\u001b[0;34m'date_count'\u001b[0m\u001b[0;34m]\u001b[0m\u001b[0;34m]\u001b[0m\u001b[0;34m)\u001b[0m\u001b[0;34m\u001b[0m\u001b[0;34m\u001b[0m\u001b[0m\n\u001b[0m",
      "\u001b[0;32m~/.local/lib/python3.8/site-packages/pandas/core/frame.py\u001b[0m in \u001b[0;36m__getitem__\u001b[0;34m(self, key)\u001b[0m\n\u001b[1;32m   3509\u001b[0m             \u001b[0;32mif\u001b[0m \u001b[0mis_iterator\u001b[0m\u001b[0;34m(\u001b[0m\u001b[0mkey\u001b[0m\u001b[0;34m)\u001b[0m\u001b[0;34m:\u001b[0m\u001b[0;34m\u001b[0m\u001b[0;34m\u001b[0m\u001b[0m\n\u001b[1;32m   3510\u001b[0m                 \u001b[0mkey\u001b[0m \u001b[0;34m=\u001b[0m \u001b[0mlist\u001b[0m\u001b[0;34m(\u001b[0m\u001b[0mkey\u001b[0m\u001b[0;34m)\u001b[0m\u001b[0;34m\u001b[0m\u001b[0;34m\u001b[0m\u001b[0m\n\u001b[0;32m-> 3511\u001b[0;31m             \u001b[0mindexer\u001b[0m \u001b[0;34m=\u001b[0m \u001b[0mself\u001b[0m\u001b[0;34m.\u001b[0m\u001b[0mcolumns\u001b[0m\u001b[0;34m.\u001b[0m\u001b[0m_get_indexer_strict\u001b[0m\u001b[0;34m(\u001b[0m\u001b[0mkey\u001b[0m\u001b[0;34m,\u001b[0m \u001b[0;34m\"columns\"\u001b[0m\u001b[0;34m)\u001b[0m\u001b[0;34m[\u001b[0m\u001b[0;36m1\u001b[0m\u001b[0;34m]\u001b[0m\u001b[0;34m\u001b[0m\u001b[0;34m\u001b[0m\u001b[0m\n\u001b[0m\u001b[1;32m   3512\u001b[0m \u001b[0;34m\u001b[0m\u001b[0m\n\u001b[1;32m   3513\u001b[0m         \u001b[0;31m# take() does not accept boolean indexers\u001b[0m\u001b[0;34m\u001b[0m\u001b[0;34m\u001b[0m\u001b[0;34m\u001b[0m\u001b[0m\n",
      "\u001b[0;32m~/.local/lib/python3.8/site-packages/pandas/core/indexes/base.py\u001b[0m in \u001b[0;36m_get_indexer_strict\u001b[0;34m(self, key, axis_name)\u001b[0m\n\u001b[1;32m   5780\u001b[0m             \u001b[0mkeyarr\u001b[0m\u001b[0;34m,\u001b[0m \u001b[0mindexer\u001b[0m\u001b[0;34m,\u001b[0m \u001b[0mnew_indexer\u001b[0m \u001b[0;34m=\u001b[0m \u001b[0mself\u001b[0m\u001b[0;34m.\u001b[0m\u001b[0m_reindex_non_unique\u001b[0m\u001b[0;34m(\u001b[0m\u001b[0mkeyarr\u001b[0m\u001b[0;34m)\u001b[0m\u001b[0;34m\u001b[0m\u001b[0;34m\u001b[0m\u001b[0m\n\u001b[1;32m   5781\u001b[0m \u001b[0;34m\u001b[0m\u001b[0m\n\u001b[0;32m-> 5782\u001b[0;31m         \u001b[0mself\u001b[0m\u001b[0;34m.\u001b[0m\u001b[0m_raise_if_missing\u001b[0m\u001b[0;34m(\u001b[0m\u001b[0mkeyarr\u001b[0m\u001b[0;34m,\u001b[0m \u001b[0mindexer\u001b[0m\u001b[0;34m,\u001b[0m \u001b[0maxis_name\u001b[0m\u001b[0;34m)\u001b[0m\u001b[0;34m\u001b[0m\u001b[0;34m\u001b[0m\u001b[0m\n\u001b[0m\u001b[1;32m   5783\u001b[0m \u001b[0;34m\u001b[0m\u001b[0m\n\u001b[1;32m   5784\u001b[0m         \u001b[0mkeyarr\u001b[0m \u001b[0;34m=\u001b[0m \u001b[0mself\u001b[0m\u001b[0;34m.\u001b[0m\u001b[0mtake\u001b[0m\u001b[0;34m(\u001b[0m\u001b[0mindexer\u001b[0m\u001b[0;34m)\u001b[0m\u001b[0;34m\u001b[0m\u001b[0;34m\u001b[0m\u001b[0m\n",
      "\u001b[0;32m~/.local/lib/python3.8/site-packages/pandas/core/indexes/base.py\u001b[0m in \u001b[0;36m_raise_if_missing\u001b[0;34m(self, key, indexer, axis_name)\u001b[0m\n\u001b[1;32m   5843\u001b[0m \u001b[0;34m\u001b[0m\u001b[0m\n\u001b[1;32m   5844\u001b[0m             \u001b[0mnot_found\u001b[0m \u001b[0;34m=\u001b[0m \u001b[0mlist\u001b[0m\u001b[0;34m(\u001b[0m\u001b[0mensure_index\u001b[0m\u001b[0;34m(\u001b[0m\u001b[0mkey\u001b[0m\u001b[0;34m)\u001b[0m\u001b[0;34m[\u001b[0m\u001b[0mmissing_mask\u001b[0m\u001b[0;34m.\u001b[0m\u001b[0mnonzero\u001b[0m\u001b[0;34m(\u001b[0m\u001b[0;34m)\u001b[0m\u001b[0;34m[\u001b[0m\u001b[0;36m0\u001b[0m\u001b[0;34m]\u001b[0m\u001b[0;34m]\u001b[0m\u001b[0;34m.\u001b[0m\u001b[0munique\u001b[0m\u001b[0;34m(\u001b[0m\u001b[0;34m)\u001b[0m\u001b[0;34m)\u001b[0m\u001b[0;34m\u001b[0m\u001b[0;34m\u001b[0m\u001b[0m\n\u001b[0;32m-> 5845\u001b[0;31m             \u001b[0;32mraise\u001b[0m \u001b[0mKeyError\u001b[0m\u001b[0;34m(\u001b[0m\u001b[0;34mf\"{not_found} not in index\"\u001b[0m\u001b[0;34m)\u001b[0m\u001b[0;34m\u001b[0m\u001b[0;34m\u001b[0m\u001b[0m\n\u001b[0m\u001b[1;32m   5846\u001b[0m \u001b[0;34m\u001b[0m\u001b[0m\n\u001b[1;32m   5847\u001b[0m     \u001b[0;34m@\u001b[0m\u001b[0moverload\u001b[0m\u001b[0;34m\u001b[0m\u001b[0;34m\u001b[0m\u001b[0m\n",
      "\u001b[0;31mKeyError\u001b[0m: \"['date_count'] not in index\""
     ]
    }
   ],
   "source": [
    "dataset = [\"OpenAPS\", \"OPENonOH\"]\n",
    "outdir = \"/home/reinhold/Daten/OPEN/\"\n",
    "outfilename = f\"duplicates_{dataset[0]}_{dataset[1]}.csv\"\n",
    "\n",
    "indir = [f\"{outdir}/{d}_Data/csv_per_day/\" for d in dataset]\n",
    "infilename = [f\"entries_{d}.csv\" for d in dataset]\n",
    "\n",
    "df = [pd.read_csv(os.path.join(indir[i], infilename[i]), header=0, parse_dates=[1], index_col=0) for i in range(2)]\n",
    "df[0][\"date\"] = pd.to_datetime(df[0][\"date\"],format=\"%Y-%m-%d\")\n",
    "out = df[0].merge(df[1], left_on=\"date\", right_on=\"date\", how=\"inner\", suffixes=(\"_OpenAPS\", \"_OPENonOH\"))\n",
    "\n",
    "print(df[0].columns)\n",
    "for col in df[0].columns:\n",
    "    if not \"sgv\" in col: continue\n",
    "    out[\"diff_\" + col] = 2*(out[col + \"_OpenAPS\"] - out[col + \"_OPENonOH\"])/(out[col + \"_OpenAPS\"] + out[col + \"_OPENonOH\"])\n",
    "\n",
    "df2 = out[(out.diff_sgv_mean*out.diff_sgv_mean< 1e-4) & (out.diff_sgv_std*out.diff_sgv_std< 1e-4) & (out.diff_sgv_min*out.diff_sgv_min< 1e-4) & (out.diff_sgv_max*out.diff_sgv_max< 1e-4) & (out.diff_sgv_count*out.diff_sgv_count< 1e-4)]\n",
    "df3 = df2[[\"user_id_OpenAPS\", \"user_id_OPENonOH\", \"date\", \"diff_sgv_mean\", \"diff_sgv_std\", \"diff_sgv_min\", \"diff_sgv_max\", \"diff_sgv_count\", \"second_id_OPENonOH\", \"filename_OPENonOH\", \"filename_OpenAPS\"]].sort_values(by=[\"user_id_OpenAPS\", \"user_id_OPENonOH\", \"date\"])\n",
    "#df3 = df3[[]]\n",
    "\n",
    "# group by statement has to return exactly one line, otherwise the selection criteria on diff_sgv_*-variables need to be tightened.\n",
    "\n",
    "gui = pdg.show(df3)\n",
    "\n",
    "df3.to_csv(os.path.join(outdir, outfilename))\n",
    "print(os.path.join(outdir, outfilename) + \" created\")\n",
    "\n",
    "df4 = df3.groupby(['user_id_OpenAPS', 'user_id_OPENonOH']).agg(\"count\")\n",
    "columns = []\n",
    "print(df4.columns)\n",
    "for col in df4.columns:\n",
    "    columns.append(f\"{col[0]}_{col[1]}\")\n",
    "df4.columns = columns\n",
    "df4.fillna(value=0, inplace=True)  #\n",
    "df4.reset_index(inplace=True)\n",
    "df4.info()\n",
    "print(df4[['user_id_OpenAPS', 'user_id_OPENonOH','date_count']])\n"
   ]
  },
  {
   "cell_type": "code",
   "execution_count": null,
   "metadata": {},
   "outputs": [],
   "source": []
  }
 ],
 "metadata": {
  "interpreter": {
   "hash": "916dbcbb3f70747c44a77c7bcd40155683ae19c65e1c03b4aa3499c5328201f1"
  },
  "kernelspec": {
   "display_name": "Python 3.8.10 64-bit",
   "language": "python",
   "name": "python3"
  },
  "language_info": {
   "codemirror_mode": {
    "name": "ipython",
    "version": 3
   },
   "file_extension": ".py",
   "mimetype": "text/x-python",
   "name": "python",
   "nbconvert_exporter": "python",
   "pygments_lexer": "ipython3",
   "version": "3.8.10"
  },
  "orig_nbformat": 4
 },
 "nbformat": 4,
 "nbformat_minor": 2
}
