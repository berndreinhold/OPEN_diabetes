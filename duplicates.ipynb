{
 "cells": [
  {
   "cell_type": "code",
   "execution_count": 18,
   "metadata": {},
   "outputs": [
    {
     "name": "stdout",
     "output_type": "stream",
     "text": [
      "0.2.13\n"
     ]
    }
   ],
   "source": [
    "import json\n",
    "import os\n",
    "import pandas as pd\n",
    "import glob\n",
    "import pandasgui as pdg\n",
    "\n",
    "print(pdg.__version__)\n",
    "diff_svg_threshold = 1e-2"
   ]
  },
  {
   "cell_type": "code",
   "execution_count": 20,
   "metadata": {},
   "outputs": [
    {
     "name": "stderr",
     "output_type": "stream",
     "text": [
      "PandasGUI INFO — pandasgui.gui — Opening PandasGUI\n"
     ]
    },
    {
     "name": "stdout",
     "output_type": "stream",
     "text": [
      "Index(['date', 'sgv_mean', 'sgv_std', 'sgv_min', 'sgv_max', 'sgv_count',\n",
      "       'filename', 'user_id'],\n",
      "      dtype='object')\n",
      "/home/reinhold/Daten/OPEN/duplicates_OpenAPS_AAPS_Uploader_OPENonOH.csv created\n"
     ]
    }
   ],
   "source": [
    "dataset = [\"OpenAPS_AAPS_Uploader\", \"OPENonOH\"]\n",
    "outdir = \"/home/reinhold/Daten/OPEN/\"\n",
    "outfilename = f\"duplicates_{dataset[0]}_{dataset[1]}.csv\"\n",
    "\n",
    "indir = [f\"{outdir}/{d}_Data/\" for d in dataset]\n",
    "infilename = [f\"{d}_per_day.csv\" for d in dataset]\n",
    "\n",
    "df = [pd.read_csv(os.path.join(indir[i], infilename[i]), header=0, parse_dates=[1], index_col=0) for i in range(2)]\n",
    "df[0][\"date\"] = pd.to_datetime(df[0][\"date\"],format=\"%Y-%m-%d\")\n",
    "out = df[0].merge(df[1], left_on=\"date\", right_on=\"date\", how=\"inner\", suffixes=(\"_ds1\", \"_ds2\"))\n",
    "\n",
    "print(df[0].columns)\n",
    "for col in df[0].columns:\n",
    "    if not \"sgv\" in col: continue\n",
    "    out[\"diff_\" + col] = 2*(out[col + \"_ds1\"] - out[col + \"_ds2\"])/(out[col + \"_ds1\"] + out[col + \"_ds2\"])\n",
    "\n",
    "df2 = out[(out.diff_sgv_mean*out.diff_sgv_mean < diff_svg_threshold) & (out.diff_sgv_std*out.diff_sgv_std < diff_svg_threshold) & \n",
    "    (out.diff_sgv_min*out.diff_sgv_min < diff_svg_threshold) & (out.diff_sgv_max*out.diff_sgv_max < diff_svg_threshold) & \n",
    "    (out.diff_sgv_count*out.diff_sgv_count < diff_svg_threshold)]\n",
    "df3 = df2[[\"user_id_ds1\", \"user_id_ds2\", \"date\", \"diff_sgv_mean\", \"diff_sgv_std\", \"diff_sgv_min\", \"diff_sgv_max\", \"diff_sgv_count\", \n",
    "    \"filename_ds1\", \"filename_ds2\"]].sort_values(by=[\"user_id_ds1\", \"user_id_ds2\", \"date\"])\n",
    "#df3 = df3[[]]\n",
    "\n",
    "# group by statement has to return exactly one line, otherwise the selection criteria on diff_sgv_*-variables need to be tightened.\n",
    "\n",
    "gui = pdg.show(out)\n",
    "\n",
    "df3.to_csv(os.path.join(outdir, outfilename))\n",
    "print(os.path.join(outdir, outfilename) + \" created\")\n"
   ]
  },
  {
   "cell_type": "code",
   "execution_count": 16,
   "metadata": {},
   "outputs": [],
   "source": [
    "df_duplicates_only = df3.groupby([\"diff_sgv_mean\", \"diff_sgv_std\", \"diff_sgv_min\", \"diff_sgv_max\", \"diff_sgv_count\"]).agg([\"count\"])\n",
    "if len(df_duplicates_only) > 1: \n",
    "    columns = []\n",
    "    for col in df_duplicates_only.columns:\n",
    "        columns.append(f\"{col[0]}_{col[1]}\")\n",
    "    df_duplicates_only.columns = columns\n",
    "    df_duplicates_only.fillna(value=0, inplace=True)  #\n",
    "    df_duplicates_only.reset_index(inplace=True)\n",
    "\n",
    "    print(df_duplicates_only)\n",
    "    print(\"all diff*-entries in df_duplicates_only need to be very close to 0.\")\n",
    "    print(type(df_duplicates_only[[\"diff_sgv_mean\", \"diff_sgv_std\"]]))\n",
    "    print(type(df_duplicates_only[\"diff_sgv_mean\"]))\n",
    "    if df_duplicates_only.any() > diff_svg_threshold: raise ValueError()"
   ]
  },
  {
   "cell_type": "code",
   "execution_count": 17,
   "metadata": {},
   "outputs": [
    {
     "name": "stdout",
     "output_type": "stream",
     "text": [
      "Empty DataFrame\n",
      "Columns: [user_id_ds1, user_id_ds2, date_count]\n",
      "Index: []\n"
     ]
    }
   ],
   "source": [
    "# get list of duplicates and the count of days\n",
    "df3_mod = df3[['user_id_ds1', 'user_id_ds2','date']]\n",
    "df4 = df3_mod.groupby(['user_id_ds1', 'user_id_ds2']).agg([\"count\"])\n",
    "\n",
    "columns = []\n",
    "for col in df4.columns:\n",
    "    columns.append(f\"{col[0]}_{col[1]}\")\n",
    "df4.columns = columns\n",
    "df4.fillna(value=0, inplace=True)  #\n",
    "df4.reset_index(inplace=True)\n",
    "#print(df4[['user_id_ds1', 'user_id_ds2','date_count']])\n",
    "print(df4)\n"
   ]
  },
  {
   "cell_type": "code",
   "execution_count": null,
   "metadata": {},
   "outputs": [],
   "source": []
  }
 ],
 "metadata": {
  "interpreter": {
   "hash": "916dbcbb3f70747c44a77c7bcd40155683ae19c65e1c03b4aa3499c5328201f1"
  },
  "kernelspec": {
   "display_name": "Python 3.8.10 64-bit",
   "language": "python",
   "name": "python3"
  },
  "language_info": {
   "codemirror_mode": {
    "name": "ipython",
    "version": 3
   },
   "file_extension": ".py",
   "mimetype": "text/x-python",
   "name": "python",
   "nbconvert_exporter": "python",
   "pygments_lexer": "ipython3",
   "version": "3.8.10"
  },
  "orig_nbformat": 4
 },
 "nbformat": 4,
 "nbformat_minor": 2
}
