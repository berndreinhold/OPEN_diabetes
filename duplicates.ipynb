{
 "cells": [
  {
   "cell_type": "code",
   "execution_count": 4,
   "metadata": {},
   "outputs": [
    {
     "name": "stdout",
     "output_type": "stream",
     "text": [
      "0.2.13\n"
     ]
    }
   ],
   "source": [
    "import json\n",
    "import os\n",
    "import pandas as pd\n",
    "import glob\n",
    "import pandasgui as pdg\n",
    "\n",
    "print(pdg.__version__)"
   ]
  },
  {
   "cell_type": "code",
   "execution_count": 7,
   "metadata": {},
   "outputs": [
    {
     "name": "stderr",
     "output_type": "stream",
     "text": [
      "PandasGUI INFO — pandasgui.gui — Opening PandasGUI\n"
     ]
    },
    {
     "name": "stdout",
     "output_type": "stream",
     "text": [
      "Index(['date', 'sgv_mean', 'sgv_std', 'sgv_min', 'sgv_max', 'sgv_count',\n",
      "       'filename', 'user_id', 'second_id'],\n",
      "      dtype='object')\n",
      "/home/reinhold/Daten/OPEN/duplicates_OpenAPS_OPENonOH.csv created\n"
     ]
    }
   ],
   "source": [
    "dataset = [\"OpenAPS\", \"OPENonOH\"]\n",
    "outdir = \"/home/reinhold/Daten/OPEN/\"\n",
    "outfilename = f\"duplicates_{dataset[0]}_{dataset[1]}.csv\"\n",
    "\n",
    "indir = [f\"{outdir}/{d}_Data/csv_per_day/\" for d in dataset]\n",
    "infilename = [f\"entries_{d}.csv\" for d in dataset]\n",
    "\n",
    "df = [pd.read_csv(os.path.join(indir[i], infilename[i]), header=0, parse_dates=[1], index_col=0) for i in range(2)]\n",
    "df[0][\"date\"] = pd.to_datetime(df[0][\"date\"],format=\"%Y-%m-%d\")\n",
    "out = df[0].merge(df[1], left_on=\"date\", right_on=\"date\", how=\"inner\", suffixes=(\"_OpenAPS\", \"_OPENonOH\"))\n",
    "\n",
    "print(df[0].columns)\n",
    "for col in df[0].columns:\n",
    "    if not \"sgv\" in col: continue\n",
    "    out[\"diff_\" + col] = 2*(out[col + \"_OpenAPS\"] - out[col + \"_OPENonOH\"])/(out[col + \"_OpenAPS\"] + out[col + \"_OPENonOH\"])\n",
    "\n",
    "df2 = out[out.diff_sgv_mean*out.diff_sgv_mean< 1e-6]\n",
    "\n",
    "gui = pdg.show(df2)\n",
    "\n",
    "df2.to_csv(os.path.join(outdir, outfilename))\n",
    "print(os.path.join(outdir, outfilename) + \" created\")\n"
   ]
  },
  {
   "cell_type": "code",
   "execution_count": null,
   "metadata": {},
   "outputs": [],
   "source": []
  }
 ],
 "metadata": {
  "interpreter": {
   "hash": "916dbcbb3f70747c44a77c7bcd40155683ae19c65e1c03b4aa3499c5328201f1"
  },
  "kernelspec": {
   "display_name": "Python 3.8.10 64-bit",
   "language": "python",
   "name": "python3"
  },
  "language_info": {
   "codemirror_mode": {
    "name": "ipython",
    "version": 3
   },
   "file_extension": ".py",
   "mimetype": "text/x-python",
   "name": "python",
   "nbconvert_exporter": "python",
   "pygments_lexer": "ipython3",
   "version": "3.8.10"
  },
  "orig_nbformat": 4
 },
 "nbformat": 4,
 "nbformat_minor": 2
}
