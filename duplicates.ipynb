{
 "cells": [
  {
   "cell_type": "code",
   "execution_count": 1,
   "metadata": {},
   "outputs": [
    {
     "name": "stdout",
     "output_type": "stream",
     "text": [
      "0.2.13\n"
     ]
    }
   ],
   "source": [
    "import json\n",
    "import os\n",
    "import pandas as pd\n",
    "import glob\n",
    "import pandasgui as pdg\n",
    "\n",
    "print(pdg.__version__)\n",
    "diff_svg_threshold = 1e-4"
   ]
  },
  {
   "cell_type": "code",
   "execution_count": 5,
   "metadata": {},
   "outputs": [
    {
     "name": "stdout",
     "output_type": "stream",
     "text": [
      "Index(['date', 'sgv_mean', 'sgv_std', 'sgv_min', 'sgv_max', 'sgv_count',\n",
      "       'filename', 'user_id'],\n",
      "      dtype='object')\n",
      "/home/reinhold/Daten/OPEN/duplicates_OpenAPS_NS_OPENonOH.csv created\n"
     ]
    }
   ],
   "source": [
    "dataset = [\"OpenAPS_NS\", \"OPENonOH\"]\n",
    "outdir = \"/home/reinhold/Daten/OPEN/\"\n",
    "outfilename = f\"duplicates_{dataset[0]}_{dataset[1]}.csv\"\n",
    "\n",
    "indir = [f\"{outdir}/{d}_Data/\" for d in dataset]\n",
    "infilename = [f\"{d}_per_day.csv\" for d in dataset]\n",
    "\n",
    "df = [pd.read_csv(os.path.join(indir[i], infilename[i]), header=0, parse_dates=[1], index_col=0) for i in range(2)]\n",
    "df[0][\"date\"] = pd.to_datetime(df[0][\"date\"],format=\"%Y-%m-%d\")\n",
    "out = df[0].merge(df[1], left_on=\"date\", right_on=\"date\", how=\"inner\", suffixes=(\"_ds1\", \"_ds2\"))\n",
    "\n",
    "print(df[0].columns)\n",
    "for col in df[0].columns:\n",
    "    if not \"sgv\" in col: continue\n",
    "    out[\"diff_\" + col] = 2*(out[col + \"_ds1\"] - out[col + \"_ds2\"])/(out[col + \"_ds1\"] + out[col + \"_ds2\"])\n",
    "\n",
    "df2 = out[(out.diff_sgv_mean*out.diff_sgv_mean < diff_svg_threshold) & (out.diff_sgv_std*out.diff_sgv_std < diff_svg_threshold) & \n",
    "    (out.diff_sgv_min*out.diff_sgv_min < diff_svg_threshold) & (out.diff_sgv_max*out.diff_sgv_max < diff_svg_threshold) & \n",
    "    (out.diff_sgv_count*out.diff_sgv_count < diff_svg_threshold)]\n",
    "df3 = df2[[\"user_id_ds1\", \"user_id_ds2\", \"date\", \"diff_sgv_mean\", \"diff_sgv_std\", \"diff_sgv_min\", \"diff_sgv_max\", \"diff_sgv_count\", \n",
    "    \"filename_ds1\", \"filename_ds2\"]].sort_values(by=[\"user_id_ds1\", \"user_id_ds2\", \"date\"])\n",
    "#df3 = df3[[]]\n",
    "\n",
    "# group by statement has to return exactly one line, otherwise the selection criteria on diff_sgv_*-variables need to be tightened.\n",
    "\n",
    "#gui = pdg.show(df3)\n",
    "\n",
    "df3.to_csv(os.path.join(outdir, outfilename))\n",
    "print(os.path.join(outdir, outfilename) + \" created\")\n"
   ]
  },
  {
   "cell_type": "code",
   "execution_count": 10,
   "metadata": {},
   "outputs": [
    {
     "name": "stdout",
     "output_type": "stream",
     "text": [
      "    diff_sgv_mean  diff_sgv_std  diff_sgv_min  diff_sgv_max  diff_sgv_count  \\\n",
      "0             0.0 -1.590998e-15           0.0           0.0             0.0   \n",
      "1             0.0 -6.462215e-16           0.0           0.0             0.0   \n",
      "2             0.0 -6.194471e-16           0.0           0.0             0.0   \n",
      "3             0.0 -4.162595e-16           0.0           0.0             0.0   \n",
      "4             0.0 -2.927725e-16           0.0           0.0             0.0   \n",
      "5             0.0 -2.550783e-16           0.0           0.0             0.0   \n",
      "6             0.0 -1.691355e-16           0.0           0.0             0.0   \n",
      "7             0.0  0.000000e+00           0.0           0.0             0.0   \n",
      "8             0.0  1.170890e-16           0.0           0.0             0.0   \n",
      "9             0.0  1.173453e-16           0.0           0.0             0.0   \n",
      "10            0.0  1.847028e-16           0.0           0.0             0.0   \n",
      "11            0.0  3.136344e-16           0.0           0.0             0.0   \n",
      "12            0.0  3.561209e-16           0.0           0.0             0.0   \n",
      "13            0.0  4.565767e-16           0.0           0.0             0.0   \n",
      "14            0.0  4.866390e-16           0.0           0.0             0.0   \n",
      "15            0.0  7.484649e-16           0.0           0.0             0.0   \n",
      "16            0.0  8.572361e-16           0.0           0.0             0.0   \n",
      "17            0.0  8.888798e-16           0.0           0.0             0.0   \n",
      "18            0.0  9.441975e-16           0.0           0.0             0.0   \n",
      "19            0.0  2.353420e-15           0.0           0.0             0.0   \n",
      "20            0.0  2.640747e-15           0.0           0.0             0.0   \n",
      "\n",
      "    user_id_ds1_count  user_id_ds2_count  date_count  filename_ds1_count  \\\n",
      "0                   1                  1           1                   1   \n",
      "1                   1                  1           1                   1   \n",
      "2                   1                  1           1                   1   \n",
      "3                   1                  1           1                   1   \n",
      "4                   1                  1           1                   1   \n",
      "5                   1                  1           1                   1   \n",
      "6                   1                  1           1                   1   \n",
      "7                5728               5728        5728                5728   \n",
      "8                   1                  1           1                   1   \n",
      "9                   1                  1           1                   1   \n",
      "10                  1                  1           1                   1   \n",
      "11                  1                  1           1                   1   \n",
      "12                  1                  1           1                   1   \n",
      "13                  1                  1           1                   1   \n",
      "14                  1                  1           1                   1   \n",
      "15                  1                  1           1                   1   \n",
      "16                  1                  1           1                   1   \n",
      "17                  1                  1           1                   1   \n",
      "18                  1                  1           1                   1   \n",
      "19                  1                  1           1                   1   \n",
      "20                  1                  1           1                   1   \n",
      "\n",
      "    filename_ds2_count  \n",
      "0                    1  \n",
      "1                    1  \n",
      "2                    1  \n",
      "3                    1  \n",
      "4                    1  \n",
      "5                    1  \n",
      "6                    1  \n",
      "7                 5728  \n",
      "8                    1  \n",
      "9                    1  \n",
      "10                   1  \n",
      "11                   1  \n",
      "12                   1  \n",
      "13                   1  \n",
      "14                   1  \n",
      "15                   1  \n",
      "16                   1  \n",
      "17                   1  \n",
      "18                   1  \n",
      "19                   1  \n",
      "20                   1  \n",
      "all diff*-entries in df_duplicates_only need to be very close to 0.\n",
      "<class 'pandas.core.frame.DataFrame'>\n",
      "<class 'pandas.core.series.Series'>\n"
     ]
    },
    {
     "ename": "ValueError",
     "evalue": "The truth value of a Series is ambiguous. Use a.empty, a.bool(), a.item(), a.any() or a.all().",
     "output_type": "error",
     "traceback": [
      "\u001b[0;31m---------------------------------------------------------------------------\u001b[0m",
      "\u001b[0;31mValueError\u001b[0m                                Traceback (most recent call last)",
      "\u001b[0;32m<ipython-input-10-981ea8536b3d>\u001b[0m in \u001b[0;36m<module>\u001b[0;34m\u001b[0m\n\u001b[1;32m     12\u001b[0m     \u001b[0mprint\u001b[0m\u001b[0;34m(\u001b[0m\u001b[0mtype\u001b[0m\u001b[0;34m(\u001b[0m\u001b[0mdf_duplicates_only\u001b[0m\u001b[0;34m[\u001b[0m\u001b[0;34m[\u001b[0m\u001b[0;34m\"diff_sgv_mean\"\u001b[0m\u001b[0;34m,\u001b[0m \u001b[0;34m\"diff_sgv_std\"\u001b[0m\u001b[0;34m]\u001b[0m\u001b[0;34m]\u001b[0m\u001b[0;34m)\u001b[0m\u001b[0;34m)\u001b[0m\u001b[0;34m\u001b[0m\u001b[0;34m\u001b[0m\u001b[0m\n\u001b[1;32m     13\u001b[0m     \u001b[0mprint\u001b[0m\u001b[0;34m(\u001b[0m\u001b[0mtype\u001b[0m\u001b[0;34m(\u001b[0m\u001b[0mdf_duplicates_only\u001b[0m\u001b[0;34m[\u001b[0m\u001b[0;34m\"diff_sgv_mean\"\u001b[0m\u001b[0;34m]\u001b[0m\u001b[0;34m)\u001b[0m\u001b[0;34m)\u001b[0m\u001b[0;34m\u001b[0m\u001b[0;34m\u001b[0m\u001b[0m\n\u001b[0;32m---> 14\u001b[0;31m     \u001b[0;32mif\u001b[0m \u001b[0mdf_duplicates_only\u001b[0m\u001b[0;34m.\u001b[0m\u001b[0many\u001b[0m\u001b[0;34m(\u001b[0m\u001b[0;34m)\u001b[0m \u001b[0;34m>\u001b[0m \u001b[0mdiff_svg_threshold\u001b[0m\u001b[0;34m:\u001b[0m \u001b[0;32mraise\u001b[0m \u001b[0mValueError\u001b[0m\u001b[0;34m(\u001b[0m\u001b[0;34m)\u001b[0m\u001b[0;34m\u001b[0m\u001b[0;34m\u001b[0m\u001b[0m\n\u001b[0m",
      "\u001b[0;32m~/.local/lib/python3.8/site-packages/pandas/core/generic.py\u001b[0m in \u001b[0;36m__nonzero__\u001b[0;34m(self)\u001b[0m\n\u001b[1;32m   1533\u001b[0m     \u001b[0;34m@\u001b[0m\u001b[0mfinal\u001b[0m\u001b[0;34m\u001b[0m\u001b[0;34m\u001b[0m\u001b[0m\n\u001b[1;32m   1534\u001b[0m     \u001b[0;32mdef\u001b[0m \u001b[0m__nonzero__\u001b[0m\u001b[0;34m(\u001b[0m\u001b[0mself\u001b[0m\u001b[0;34m)\u001b[0m\u001b[0;34m:\u001b[0m\u001b[0;34m\u001b[0m\u001b[0;34m\u001b[0m\u001b[0m\n\u001b[0;32m-> 1535\u001b[0;31m         raise ValueError(\n\u001b[0m\u001b[1;32m   1536\u001b[0m             \u001b[0;34mf\"The truth value of a {type(self).__name__} is ambiguous. \"\u001b[0m\u001b[0;34m\u001b[0m\u001b[0;34m\u001b[0m\u001b[0m\n\u001b[1;32m   1537\u001b[0m             \u001b[0;34m\"Use a.empty, a.bool(), a.item(), a.any() or a.all().\"\u001b[0m\u001b[0;34m\u001b[0m\u001b[0;34m\u001b[0m\u001b[0m\n",
      "\u001b[0;31mValueError\u001b[0m: The truth value of a Series is ambiguous. Use a.empty, a.bool(), a.item(), a.any() or a.all()."
     ]
    }
   ],
   "source": [
    "df_duplicates_only = df3.groupby([\"diff_sgv_mean\", \"diff_sgv_std\", \"diff_sgv_min\", \"diff_sgv_max\", \"diff_sgv_count\"]).agg([\"count\"])\n",
    "if len(df_duplicates_only) > 1: \n",
    "    columns = []\n",
    "    for col in df_duplicates_only.columns:\n",
    "        columns.append(f\"{col[0]}_{col[1]}\")\n",
    "    df_duplicates_only.columns = columns\n",
    "    df_duplicates_only.fillna(value=0, inplace=True)  #\n",
    "    df_duplicates_only.reset_index(inplace=True)\n",
    "\n",
    "    print(df_duplicates_only)\n",
    "    print(\"all diff*-entries in df_duplicates_only need to be very close to 0.\")\n",
    "    print(type(df_duplicates_only[[\"diff_sgv_mean\", \"diff_sgv_std\"]]))\n",
    "    print(type(df_duplicates_only[\"diff_sgv_mean\"]))\n",
    "    if df_duplicates_only.any() > diff_svg_threshold: raise ValueError()"
   ]
  },
  {
   "cell_type": "code",
   "execution_count": 4,
   "metadata": {},
   "outputs": [
    {
     "name": "stdout",
     "output_type": "stream",
     "text": [
      "    user_id_ds1  user_id_ds2  date_count\n",
      "0      14092221     20104403         590\n",
      "1      15634563     34208593         134\n",
      "2      24448124     50641121         795\n",
      "3      27526291     77770642          38\n",
      "4      54280576      8814820          15\n",
      "5      63725802      1104400         256\n",
      "6      67167655     26745937         189\n",
      "7      68026248     45407256         223\n",
      "8      70454270     72492017         203\n",
      "9      80625186     77667622         330\n",
      "10     80796147     65054673         281\n",
      "11     86323903       749582        1300\n",
      "12     89032650     99868978         346\n",
      "13     90398368     54943175          55\n",
      "14     93606058      9922617         359\n",
      "15     94200862     12826270          51\n",
      "16     98340749     21316466         583\n"
     ]
    }
   ],
   "source": [
    "# get list of duplicates and the count of days\n",
    "df3_mod = df3[['user_id_ds1', 'user_id_ds2','date']]\n",
    "df4 = df3_mod.groupby(['user_id_ds1', 'user_id_ds2']).agg([\"count\"])\n",
    "\n",
    "columns = []\n",
    "for col in df4.columns:\n",
    "    columns.append(f\"{col[0]}_{col[1]}\")\n",
    "df4.columns = columns\n",
    "df4.fillna(value=0, inplace=True)  #\n",
    "df4.reset_index(inplace=True)\n",
    "#print(df4[['user_id_ds1', 'user_id_ds2','date_count']])\n",
    "print(df4)\n"
   ]
  }
 ],
 "metadata": {
  "interpreter": {
   "hash": "916dbcbb3f70747c44a77c7bcd40155683ae19c65e1c03b4aa3499c5328201f1"
  },
  "kernelspec": {
   "display_name": "Python 3.8.10 64-bit",
   "language": "python",
   "name": "python3"
  },
  "language_info": {
   "codemirror_mode": {
    "name": "ipython",
    "version": 3
   },
   "file_extension": ".py",
   "mimetype": "text/x-python",
   "name": "python",
   "nbconvert_exporter": "python",
   "pygments_lexer": "ipython3",
   "version": "3.8.10"
  },
  "orig_nbformat": 4
 },
 "nbformat": 4,
 "nbformat_minor": 2
}
