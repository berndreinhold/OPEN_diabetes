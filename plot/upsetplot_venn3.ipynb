{
 "cells": [
  {
   "cell_type": "code",
   "execution_count": 2,
   "metadata": {},
   "outputs": [],
   "source": [
    "import pandas as pd\n",
    "from matplotlib_venn import venn3, venn3_circles\n",
    "import os\n",
    "import json\n",
    "from matplotlib import pyplot as plt\n",
    "import upsetplot as usp"
   ]
  },
  {
   "cell_type": "code",
   "execution_count": 3,
   "metadata": {},
   "outputs": [
    {
     "name": "stdout",
     "output_type": "stream",
     "text": [
      "['OpenAPS (NS)', 'OPENonOH (NS)', 'OPENonOH (AAPS_Uploader)', 'OpenAPS (AAPS_Uploader)']\n"
     ]
    }
   ],
   "source": [
    "# load the config files and the variables from the upset_plot-section of the config file\n",
    "config_path = \"/home/reinhold/Daten/OPEN_4ds/generated_config\"\n",
    "config_filename = \"config_viz.json\"\n",
    "f = open(os.path.join(config_path, config_filename))\n",
    "IO_json = json.load(f)\n",
    "\n",
    "###############################################################################\n",
    "## switch between the two different variables\n",
    "###############################################################################\n",
    "var = \"per_pm_id\"\n",
    "#var = \"per_pm_id_date\"\n",
    "root_data_dir_name = IO_json[\"root_data_dir_name\"]\n",
    "input = IO_json[\"summary_plots\"][\"input\"][var]\n",
    "dataset_labels = IO_json[\"summary_plots\"][\"dataset_labels\"]\n",
    "output = IO_json[\"summary_plots\"][\"upsetplot_output\"][var]\n",
    "\n",
    "cols = []\n",
    "for ds in dataset_labels:\n",
    "    cols.append(ds)\n",
    "print(cols)"
   ]
  },
  {
   "cell_type": "code",
   "execution_count": 25,
   "metadata": {},
   "outputs": [
    {
     "name": "stdout",
     "output_type": "stream",
     "text": [
      "     OpenAPS (NS)  OPENonOH (NS)  OPENonOH (AAPS_Uploader)  \\\n",
      "26           True          False                     False   \n",
      "21           True          False                     False   \n",
      "23           True          False                     False   \n",
      "24           True          False                     False   \n",
      "56           True          False                     False   \n",
      "..            ...            ...                       ...   \n",
      "202         False          False                     False   \n",
      "197         False          False                     False   \n",
      "195         False          False                     False   \n",
      "219         False          False                     False   \n",
      "215         False          False                     False   \n",
      "\n",
      "     OpenAPS (AAPS_Uploader)  \n",
      "26                     False  \n",
      "21                     False  \n",
      "23                     False  \n",
      "24                     False  \n",
      "56                     False  \n",
      "..                       ...  \n",
      "202                     True  \n",
      "197                     True  \n",
      "195                     True  \n",
      "219                     True  \n",
      "215                     True  \n",
      "\n",
      "[224 rows x 4 columns]\n"
     ]
    }
   ],
   "source": [
    "\n",
    "df = pd.read_csv(os.path.join(root_data_dir_name, input[0], input[1]), header=0, parse_dates=[1], index_col=0)\n",
    "for i in range(len(dataset_labels)):\n",
    "    df[cols[i]] = ~pd.isna(df[f\"pm_id_{i}\"])\n",
    "\n",
    "df1 = df[cols]\n",
    "print(df1)"
   ]
  },
  {
   "cell_type": "code",
   "execution_count": 24,
   "metadata": {},
   "outputs": [
    {
     "name": "stdout",
     "output_type": "stream",
     "text": [
      "OpenAPS (NS)  OPENonOH (NS)  OPENonOH (AAPS_Uploader)  OpenAPS (AAPS_Uploader)\n",
      "True          False          False                     False                      1.0\n",
      "                                                       False                      1.0\n",
      "                                                       False                      1.0\n",
      "                                                       False                      1.0\n",
      "                                                       False                      1.0\n",
      "                                                                                 ... \n",
      "False         False          False                     True                       1.0\n",
      "                                                       True                       1.0\n",
      "                                                       True                       1.0\n",
      "                                                       True                       1.0\n",
      "                                                       True                       1.0\n",
      "Name: ones, Length: 224, dtype: float64\n",
      "[MultiIndex([( True, False, False, False),\n",
      "            ( True, False, False, False),\n",
      "            ( True, False, False, False),\n",
      "            ( True, False, False, False),\n",
      "            ( True, False, False, False),\n",
      "            ( True, False, False, False),\n",
      "            ( True, False, False, False),\n",
      "            ( True, False, False, False),\n",
      "            ( True, False, False, False),\n",
      "            ( True, False, False, False),\n",
      "            ...\n",
      "            (False, False, False,  True),\n",
      "            (False, False, False,  True),\n",
      "            (False, False, False,  True),\n",
      "            (False, False, False,  True),\n",
      "            (False, False, False,  True),\n",
      "            (False, False, False,  True),\n",
      "            (False, False, False,  True),\n",
      "            (False, False, False,  True),\n",
      "            (False, False, False,  True),\n",
      "            (False, False, False,  True)],\n",
      "           names=['OpenAPS (NS)', 'OPENonOH (NS)', 'OPENonOH (AAPS_Uploader)', 'OpenAPS (AAPS_Uploader)'], length=224)]\n",
      "224\n"
     ]
    }
   ],
   "source": [
    "\n",
    "df2 = usp.from_indicators(df1)  # returns a series\n",
    "print(df2)\n",
    "print(df2.axes)"
   ]
  },
  {
   "cell_type": "code",
   "execution_count": 6,
   "metadata": {},
   "outputs": [
    {
     "name": "stdout",
     "output_type": "stream",
     "text": [
      "created image: /home/reinhold/Daten/OPEN_4ds/img/upsetplot_per_pm_id.png\n"
     ]
    },
    {
     "data": {
      "text/plain": [
       "<Figure size 1080x1080 with 0 Axes>"
      ]
     },
     "metadata": {},
     "output_type": "display_data"
    },
    {
     "data": {
      "image/png": "[encoded data removed]",
      "text/plain": [
       "<Figure size 480x320 with 4 Axes>"
      ]
     },
     "metadata": {},
     "output_type": "display_data"
    }
   ],
   "source": [
    "os.makedirs(os.path.join(root_data_dir_name, output[0]), exist_ok=True)\n",
    "plt.rcParams[\"font.size\"] = 10.0\n",
    "plt.rcParams.update({\"figure.facecolor\" : (1.0, 1.0, 1.0, 1.0), \"savefig.facecolor\": (1.0, 1.0, 1.0, 1.0)})\n",
    "plt.figure(figsize=(15,15))\n",
    "plt.tight_layout()\n",
    "usp.plot(df2, subset_size='count')\n",
    "plt.title(output[2])\n",
    "plt.savefig(os.path.join(root_data_dir_name, output[0], output[1]), bbox_inches='tight')\n",
    "print(f\"created image: {os.path.join(root_data_dir_name, output[0], output[1])}\")\n",
    "\n"
   ]
  },
  {
   "cell_type": "code",
   "execution_count": 7,
   "metadata": {},
   "outputs": [],
   "source": [
    "# upset = usp.UpSet(df2, subset_size='count', intersection_plot_elements=3)\n",
    "# upset.plot()\n",
    "#upset.add_catplot(value='median_value', kind='strip', color='blue')\n",
    "#upset.add_catplot(value='AGE', kind='strip', color='black')\n"
   ]
  },
  {
   "cell_type": "code",
   "execution_count": 21,
   "metadata": {},
   "outputs": [
    {
     "name": "stdout",
     "output_type": "stream",
     "text": [
      "['OpenAPS (NS)', 'OPENonOH (NS)', 'OPENonOH (AAPS_Uploader)', 'OpenAPS (AAPS_Uploader)'] ['OpenAPS (NS)', 'OPENonOH (NS)', 'OpenAPS (AAPS_Uploader)']\n"
     ]
    },
    {
     "ename": "KeyError",
     "evalue": "'OPENonOH (AAPS_Uploader)'",
     "output_type": "error",
     "traceback": [
      "\u001b[0;31m---------------------------------------------------------------------------\u001b[0m",
      "\u001b[0;31mKeyError\u001b[0m                                  Traceback (most recent call last)",
      "File \u001b[0;32m~/.local/lib/python3.8/site-packages/pandas/core/indexes/base.py:3621\u001b[0m, in \u001b[0;36mIndex.get_loc\u001b[0;34m(self, key, method, tolerance)\u001b[0m\n\u001b[1;32m   3620\u001b[0m \u001b[39mtry\u001b[39;00m:\n\u001b[0;32m-> 3621\u001b[0m     \u001b[39mreturn\u001b[39;00m \u001b[39mself\u001b[39;49m\u001b[39m.\u001b[39;49m_engine\u001b[39m.\u001b[39;49mget_loc(casted_key)\n\u001b[1;32m   3622\u001b[0m \u001b[39mexcept\u001b[39;00m \u001b[39mKeyError\u001b[39;00m \u001b[39mas\u001b[39;00m err:\n",
      "File \u001b[0;32m~/.local/lib/python3.8/site-packages/pandas/_libs/index.pyx:136\u001b[0m, in \u001b[0;36mpandas._libs.index.IndexEngine.get_loc\u001b[0;34m()\u001b[0m\n",
      "File \u001b[0;32m~/.local/lib/python3.8/site-packages/pandas/_libs/index.pyx:163\u001b[0m, in \u001b[0;36mpandas._libs.index.IndexEngine.get_loc\u001b[0;34m()\u001b[0m\n",
      "File \u001b[0;32mpandas/_libs/hashtable_class_helper.pxi:5198\u001b[0m, in \u001b[0;36mpandas._libs.hashtable.PyObjectHashTable.get_item\u001b[0;34m()\u001b[0m\n",
      "File \u001b[0;32mpandas/_libs/hashtable_class_helper.pxi:5206\u001b[0m, in \u001b[0;36mpandas._libs.hashtable.PyObjectHashTable.get_item\u001b[0;34m()\u001b[0m\n",
      "\u001b[0;31mKeyError\u001b[0m: 'OPENonOH (AAPS_Uploader)'",
      "\nThe above exception was the direct cause of the following exception:\n",
      "\u001b[0;31mKeyError\u001b[0m                                  Traceback (most recent call last)",
      "\u001b[1;32m/home/reinhold/Software/OPEN/OPEN_diabetes/plot/upsetplot_venn3.ipynb Cell 7'\u001b[0m in \u001b[0;36m<cell line: 6>\u001b[0;34m()\u001b[0m\n\u001b[1;32m      <a href='vscode-notebook-cell:/home/reinhold/Software/OPEN/OPEN_diabetes/plot/upsetplot_venn3.ipynb#ch0000006?line=3'>4</a>\u001b[0m cols2\u001b[39m.\u001b[39mappend(cols[\u001b[39m3\u001b[39m])\n\u001b[1;32m      <a href='vscode-notebook-cell:/home/reinhold/Software/OPEN/OPEN_diabetes/plot/upsetplot_venn3.ipynb#ch0000006?line=4'>5</a>\u001b[0m \u001b[39mprint\u001b[39m(cols,cols2)\n\u001b[0;32m----> <a href='vscode-notebook-cell:/home/reinhold/Software/OPEN/OPEN_diabetes/plot/upsetplot_venn3.ipynb#ch0000006?line=5'>6</a>\u001b[0m df_v1 \u001b[39m=\u001b[39m df2[df2[cols[\u001b[39m2\u001b[39;49m]]\u001b[39m==\u001b[39m\u001b[39mTrue\u001b[39;00m]\u001b[39m.\u001b[39mgroupby(cols2, dropna\u001b[39m=\u001b[39m\u001b[39mFalse\u001b[39;00m)\u001b[39m.\u001b[39magg(\u001b[39m\"\u001b[39m\u001b[39mcount\u001b[39m\u001b[39m\"\u001b[39m)\n\u001b[1;32m      <a href='vscode-notebook-cell:/home/reinhold/Software/OPEN/OPEN_diabetes/plot/upsetplot_venn3.ipynb#ch0000006?line=6'>7</a>\u001b[0m \u001b[39mprint\u001b[39m(df_v1)\n",
      "File \u001b[0;32m~/.local/lib/python3.8/site-packages/pandas/core/series.py:958\u001b[0m, in \u001b[0;36mSeries.__getitem__\u001b[0;34m(self, key)\u001b[0m\n\u001b[1;32m    955\u001b[0m     \u001b[39mreturn\u001b[39;00m \u001b[39mself\u001b[39m\u001b[39m.\u001b[39m_values[key]\n\u001b[1;32m    957\u001b[0m \u001b[39melif\u001b[39;00m key_is_scalar:\n\u001b[0;32m--> 958\u001b[0m     \u001b[39mreturn\u001b[39;00m \u001b[39mself\u001b[39;49m\u001b[39m.\u001b[39;49m_get_value(key)\n\u001b[1;32m    960\u001b[0m \u001b[39mif\u001b[39;00m is_hashable(key):\n\u001b[1;32m    961\u001b[0m     \u001b[39m# Otherwise index.get_value will raise InvalidIndexError\u001b[39;00m\n\u001b[1;32m    962\u001b[0m     \u001b[39mtry\u001b[39;00m:\n\u001b[1;32m    963\u001b[0m         \u001b[39m# For labels that don't resolve as scalars like tuples and frozensets\u001b[39;00m\n",
      "File \u001b[0;32m~/.local/lib/python3.8/site-packages/pandas/core/series.py:1069\u001b[0m, in \u001b[0;36mSeries._get_value\u001b[0;34m(self, label, takeable)\u001b[0m\n\u001b[1;32m   1066\u001b[0m     \u001b[39mreturn\u001b[39;00m \u001b[39mself\u001b[39m\u001b[39m.\u001b[39m_values[label]\n\u001b[1;32m   1068\u001b[0m \u001b[39m# Similar to Index.get_value, but we do not fall back to positional\u001b[39;00m\n\u001b[0;32m-> 1069\u001b[0m loc \u001b[39m=\u001b[39m \u001b[39mself\u001b[39;49m\u001b[39m.\u001b[39;49mindex\u001b[39m.\u001b[39;49mget_loc(label)\n\u001b[1;32m   1070\u001b[0m \u001b[39mreturn\u001b[39;00m \u001b[39mself\u001b[39m\u001b[39m.\u001b[39mindex\u001b[39m.\u001b[39m_get_values_for_loc(\u001b[39mself\u001b[39m, loc, label)\n",
      "File \u001b[0;32m~/.local/lib/python3.8/site-packages/pandas/core/indexes/multi.py:2871\u001b[0m, in \u001b[0;36mMultiIndex.get_loc\u001b[0;34m(self, key, method)\u001b[0m\n\u001b[1;32m   2868\u001b[0m     \u001b[39mreturn\u001b[39;00m mask\n\u001b[1;32m   2870\u001b[0m \u001b[39mif\u001b[39;00m \u001b[39mnot\u001b[39;00m \u001b[39misinstance\u001b[39m(key, \u001b[39mtuple\u001b[39m):\n\u001b[0;32m-> 2871\u001b[0m     loc \u001b[39m=\u001b[39m \u001b[39mself\u001b[39;49m\u001b[39m.\u001b[39;49m_get_level_indexer(key, level\u001b[39m=\u001b[39;49m\u001b[39m0\u001b[39;49m)\n\u001b[1;32m   2872\u001b[0m     \u001b[39mreturn\u001b[39;00m _maybe_to_slice(loc)\n\u001b[1;32m   2874\u001b[0m keylen \u001b[39m=\u001b[39m \u001b[39mlen\u001b[39m(key)\n",
      "File \u001b[0;32m~/.local/lib/python3.8/site-packages/pandas/core/indexes/multi.py:3224\u001b[0m, in \u001b[0;36mMultiIndex._get_level_indexer\u001b[0;34m(self, key, level, indexer)\u001b[0m\n\u001b[1;32m   3220\u001b[0m         \u001b[39mreturn\u001b[39;00m \u001b[39mslice\u001b[39m(i, j, step)\n\u001b[1;32m   3222\u001b[0m \u001b[39melse\u001b[39;00m:\n\u001b[0;32m-> 3224\u001b[0m     idx \u001b[39m=\u001b[39m \u001b[39mself\u001b[39;49m\u001b[39m.\u001b[39;49m_get_loc_single_level_index(level_index, key)\n\u001b[1;32m   3226\u001b[0m     \u001b[39mif\u001b[39;00m level \u001b[39m>\u001b[39m \u001b[39m0\u001b[39m \u001b[39mor\u001b[39;00m \u001b[39mself\u001b[39m\u001b[39m.\u001b[39m_lexsort_depth \u001b[39m==\u001b[39m \u001b[39m0\u001b[39m:\n\u001b[1;32m   3227\u001b[0m         \u001b[39m# Desired level is not sorted\u001b[39;00m\n\u001b[1;32m   3228\u001b[0m         \u001b[39mif\u001b[39;00m \u001b[39misinstance\u001b[39m(idx, \u001b[39mslice\u001b[39m):\n\u001b[1;32m   3229\u001b[0m             \u001b[39m# test_get_loc_partial_timestamp_multiindex\u001b[39;00m\n",
      "File \u001b[0;32m~/.local/lib/python3.8/site-packages/pandas/core/indexes/multi.py:2804\u001b[0m, in \u001b[0;36mMultiIndex._get_loc_single_level_index\u001b[0;34m(self, level_index, key)\u001b[0m\n\u001b[1;32m   2802\u001b[0m     \u001b[39mreturn\u001b[39;00m \u001b[39m-\u001b[39m\u001b[39m1\u001b[39m\n\u001b[1;32m   2803\u001b[0m \u001b[39melse\u001b[39;00m:\n\u001b[0;32m-> 2804\u001b[0m     \u001b[39mreturn\u001b[39;00m level_index\u001b[39m.\u001b[39;49mget_loc(key)\n",
      "File \u001b[0;32m~/.local/lib/python3.8/site-packages/pandas/core/indexes/base.py:3623\u001b[0m, in \u001b[0;36mIndex.get_loc\u001b[0;34m(self, key, method, tolerance)\u001b[0m\n\u001b[1;32m   3621\u001b[0m     \u001b[39mreturn\u001b[39;00m \u001b[39mself\u001b[39m\u001b[39m.\u001b[39m_engine\u001b[39m.\u001b[39mget_loc(casted_key)\n\u001b[1;32m   3622\u001b[0m \u001b[39mexcept\u001b[39;00m \u001b[39mKeyError\u001b[39;00m \u001b[39mas\u001b[39;00m err:\n\u001b[0;32m-> 3623\u001b[0m     \u001b[39mraise\u001b[39;00m \u001b[39mKeyError\u001b[39;00m(key) \u001b[39mfrom\u001b[39;00m \u001b[39merr\u001b[39;00m\n\u001b[1;32m   3624\u001b[0m \u001b[39mexcept\u001b[39;00m \u001b[39mTypeError\u001b[39;00m:\n\u001b[1;32m   3625\u001b[0m     \u001b[39m# If we have a listlike key, _check_indexing_error will raise\u001b[39;00m\n\u001b[1;32m   3626\u001b[0m     \u001b[39m#  InvalidIndexError. Otherwise we fall through and re-raise\u001b[39;00m\n\u001b[1;32m   3627\u001b[0m     \u001b[39m#  the TypeError.\u001b[39;00m\n\u001b[1;32m   3628\u001b[0m     \u001b[39mself\u001b[39m\u001b[39m.\u001b[39m_check_indexing_error(key)\n",
      "\u001b[0;31mKeyError\u001b[0m: 'OPENonOH (AAPS_Uploader)'"
     ]
    }
   ],
   "source": [
    "# for venn3 diagramm\n",
    "output = IO_json[\"summary_plots\"][\"venn3plot_output\"][var]\n",
    "cols2 = cols[0:2]\n",
    "cols2.append(cols[3])\n",
    "print(cols,cols2)\n",
    "df_v1 = df2[df2[cols[2]]==True].groupby(cols2, dropna=False).agg(\"count\")\n",
    "print(df_v1)\n",
    "#print(type(df_v1))\n",
    "#df_v1.info()\n"
   ]
  },
  {
   "cell_type": "code",
   "execution_count": 9,
   "metadata": {},
   "outputs": [
    {
     "name": "stdout",
     "output_type": "stream",
     "text": [
      "(False, False, False, True) 36\n",
      "(False, False, True, False) 54\n",
      "(False, True, False, False) 29\n",
      "(False, True, True, False) 11\n",
      "(True, False, False, False) 77\n",
      "(True, True, False, False) 11\n",
      "(True, True, True, False) 6\n",
      "{'0001': 36, '0010': 54, '0100': 29, '0110': 11, '1000': 77, '1100': 11, '1110': 6}\n",
      "created image: /home/reinhold/Daten/OPEN_4ds/img/venn3plot_per_pm_id.png\n"
     ]
    },
    {
     "name": "stderr",
     "output_type": "stream",
     "text": [
      "/home/reinhold/.local/lib/python3.8/site-packages/matplotlib_venn/_venn3.py:47: UserWarning: All circles have zero area\n",
      "  warnings.warn(\"All circles have zero area\")\n"
     ]
    },
    {
     "data": {
      "image/png": "[encoded data removed]",
      "text/plain": [
       "<Figure size 1080x1080 with 1 Axes>"
      ]
     },
     "metadata": {},
     "output_type": "display_data"
    }
   ],
   "source": [
    "#print(df_v1.index)\n",
    "#print(df_v1.index.names)\n",
    "plt.rcParams[\"font.size\"] = 18.0  # 10 by default\n",
    "data = {}\n",
    "for i in df_v1.index:\n",
    "    print(i, df_v1.loc[i])\n",
    "    i_str = \"\".join([str(int(i_k)) for i_k in i])\n",
    "    data[i_str] = df_v1.loc[i]\n",
    "print(data)\n",
    "\n",
    "plt.figure(figsize=(15,15))\n",
    "plt.tight_layout()\n",
    "venn3(subsets = data, set_labels=df_v1.index.names)\n",
    "plt.title(output[2])\n",
    "plt.savefig(os.path.join(root_data_dir_name, output[0], output[1]), bbox_inches='tight')\n",
    "print(f\"created image: {os.path.join(root_data_dir_name, output[0], output[1])}\")\n",
    "\n",
    "#venn3(subsets = (data[\"100\"], data[\"010\"], data[\"110\"], data[\"001\"], data[\"101\"], data[\"011\"], data[\"111\"]), set_labels=(\"OPENonOH\", \"OpenAPS_NS\", \"OPENonOH_AAPS_Uploader\"), alpha=0.5)"
   ]
  },
  {
   "cell_type": "code",
   "execution_count": 52,
   "metadata": {},
   "outputs": [
    {
     "name": "stdout",
     "output_type": "stream",
     "text": [
      "Empty DataFrame\n",
      "Columns: [dataset 0, dataset 1, dataset 2, dataset 3]\n",
      "Index: []\n"
     ]
    }
   ],
   "source": [
    "# just for cross check: should return an empty dataframe for the artificial data, a dataframe with all true for the real data\n",
    "df4 = df1[(df1[cols[0]]==True) & (df1[cols[1]]==True) & (df1[cols[2]]==True)]\n",
    "print(df4)"
   ]
  },
  {
   "cell_type": "code",
   "execution_count": null,
   "metadata": {},
   "outputs": [],
   "source": []
  }
 ],
 "metadata": {
  "interpreter": {
   "hash": "916dbcbb3f70747c44a77c7bcd40155683ae19c65e1c03b4aa3499c5328201f1"
  },
  "kernelspec": {
   "display_name": "Python 3.8.10 64-bit",
   "language": "python",
   "name": "python3"
  },
  "language_info": {
   "codemirror_mode": {
    "name": "ipython",
    "version": 3
   },
   "file_extension": ".py",
   "mimetype": "text/x-python",
   "name": "python",
   "nbconvert_exporter": "python",
   "pygments_lexer": "ipython3",
   "version": "3.8.10"
  },
  "orig_nbformat": 4
 },
 "nbformat": 4,
 "nbformat_minor": 2
}
