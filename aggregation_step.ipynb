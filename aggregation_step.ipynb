{
 "cells": [
  {
   "cell_type": "code",
   "execution_count": 1,
   "metadata": {},
   "outputs": [],
   "source": [
    "import json\n",
    "import os\n",
    "import pandas as pd\n",
    "import glob\n",
    "\n"
   ]
  },
  {
   "cell_type": "code",
   "execution_count": 48,
   "metadata": {},
   "outputs": [],
   "source": [
    "def all_csv(indir_name, df_list):\n",
    "    for i, f in enumerate(glob.glob(os.path.join(f\"{indir_name}\",\"**\", \"*entries*.csv\"), recursive=True)):\n",
    "        head, tail = os.path.split(f)\n",
    "        print(i, tail)\n",
    "        df = pd.read_csv(f)\n",
    "        df[\"timestamp\"] = df[\"0\"]\n",
    "        df[[\"date\",\"time\"]] = df[\"1\"].str.split(\"T\", 1, expand=True)\n",
    "        df[\"sgv\"] = df[\"2\"]\n",
    "        df_mod = df[[\"date\",\"sgv\"]]\n",
    "        df2 = df_mod.groupby(\"date\", as_index=False).agg([\"mean\", \"std\", \"min\", \"max\", \"count\"])\n",
    "        # df2.reset_index()\n",
    "        columns = []\n",
    "        for col in df2.columns:\n",
    "            columns.append(f\"{col[0]}_{col[1]}\")\n",
    "        df2.columns = columns\n",
    "        df2.fillna(value=0, inplace=True)  #\n",
    "        df2.reset_index(inplace=True)\n",
    "        df2[\"filename\"] = tail\n",
    "        df_list.append(df2)\n",
    "        \n"
   ]
  },
  {
   "cell_type": "code",
   "execution_count": 49,
   "metadata": {},
   "outputs": [
    {
     "name": "stdout",
     "output_type": "stream",
     "text": [
      "0 00977838_23987999_entries_2020-09-01_to_2020-11-08.csv\n",
      "1 00977838_23989488_entries_2020-09-01_to_2020-11-08.csv\n",
      "2 00749582_69754_entries__to_2018-06-07.csv\n",
      "3 00749582_999974_entries__to_2019-02-15.csv\n",
      "/home/reinhold/Daten/OPEN/OPENonOH_Data/csv/entries_OPENonOH.csv created\n"
     ]
    }
   ],
   "source": [
    "indir = \"/home/reinhold/Daten/OPEN/OPENonOH_Data/csv\"\n",
    "outfile_name = \"entries_OPENonOH.csv\"\n",
    "df_list = []\n",
    "all_csv(indir, df_list)\n",
    "df = pd.concat(df_list, axis=0)\n",
    "#print(df)\n",
    "#df.info()\n",
    "df.to_csv(os.path.join(indir, outfile_name))\n",
    "print(os.path.join(indir, outfile_name) + \" created\")\n"
   ]
  }
 ],
 "metadata": {
  "interpreter": {
   "hash": "916dbcbb3f70747c44a77c7bcd40155683ae19c65e1c03b4aa3499c5328201f1"
  },
  "kernelspec": {
   "display_name": "Python 3.8.10 64-bit",
   "language": "python",
   "name": "python3"
  },
  "language_info": {
   "codemirror_mode": {
    "name": "ipython",
    "version": 3
   },
   "file_extension": ".py",
   "mimetype": "text/x-python",
   "name": "python",
   "nbconvert_exporter": "python",
   "pygments_lexer": "ipython3",
   "version": "3.8.10"
  },
  "orig_nbformat": 4
 },
 "nbformat": 4,
 "nbformat_minor": 2
}
