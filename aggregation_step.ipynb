{
 "cells": [
  {
   "cell_type": "code",
   "execution_count": null,
   "metadata": {},
   "outputs": [],
   "source": [
    "import json\n",
    "import os\n",
    "import pandas as pd\n",
    "import numpy as np\n",
    "import glob\n",
    "\n",
    "print(pd.__version__, np.__version__)\n"
   ]
  },
  {
   "cell_type": "code",
   "execution_count": null,
   "metadata": {},
   "outputs": [],
   "source": [
    "def all_csv(indir_name, df_list):\n",
    "    for i, f in enumerate(glob.glob(os.path.join(f\"{indir_name}\",\"**\", \"*entries*.csv\"), recursive=True)):\n",
    "        head, tail = os.path.split(f)\n",
    "        print(i, tail)\n",
    "        # df = pd.read_csv(f, header=0, parse_dates=[4], index_col=0)\n",
    "        df = pd.read_csv(f, header=0, index_col=0)\n",
    "        if len(df)<1:\n",
    "            print(f\"no entries: {head}, {tail}\") \n",
    "            continue\n",
    "        #column_type = str(df[\"dateString\"].dtype)\n",
    "        #if \"datetime\" not in str(column_type).lower(): \n",
    "        #    raise Exception(f\"there was an import error: {column_type}\")\n",
    "        \"\"\"\n",
    "        df[\"unix_timestamp\"] = df[\"date\"]\n",
    "        df[\"datetime\"] = pd.to_datetime(df[\"dateString\"])\n",
    "        df.info()\n",
    "        print(df)\n",
    "        \n",
    "        df[\"date\"] = df[\"datetime\"].dt.date\n",
    "        df.info()\n",
    "        print(df)\n",
    "        \"\"\"\n",
    "        \n",
    "        df[\"unix_timestamp\"] = df[\"date\"]\n",
    "        # unix_timestamp in ms is a 13 digit number, in s it is a 10 digit number (in 2022)\n",
    "        if not ((np.log10(df[\"unix_timestamp\"]) > 12) & (np.log10(df[\"unix_timestamp\"]) < 13)).all(): \n",
    "            raise ValueError(\"expected a 13 digit unix timestamp, but got a {} digit number.\".format(np.int(np.log10(df[\"unix_timestamp\"][0])) + 1))\n",
    "        #df[[\"date\",\"time\"]] = df[\"dateString\"].str.split(\"T\", 1, expand=True)\n",
    "        df[\"datetime_utc\"] = pd.to_datetime(df['unix_timestamp'], unit='ms', utc=True)\n",
    "        df[\"date\"] = df[\"datetime_utc\"].dt.date\n",
    "        df_mod = df[[\"date\",\"sgv\"]]\n",
    "        df2 = df_mod.groupby(\"date\", as_index=False).agg([\"mean\", \"std\", \"min\", \"max\", \"count\"])\n",
    "        # df2.reset_index()\n",
    "        columns = []\n",
    "        for col in df2.columns:\n",
    "            columns.append(f\"{col[0]}_{col[1]}\")\n",
    "        df2.columns = columns\n",
    "        df2.fillna(value=0, inplace=True)  #\n",
    "        df2.reset_index(inplace=True)\n",
    "        df2[\"filename\"] = tail\n",
    "        fn_components = tail.split(\"_\")\n",
    "        if \"OPENonOH\" in head: \n",
    "            df2[\"user_id\"] = fn_components[0]\n",
    "            df2[\"second_id\"] = fn_components[1]\n",
    "        elif \"OpenAPS\" in head:\n",
    "            df2[\"user_id\"] = fn_components[0]\n",
    "            df2[\"second_id\"] = np.nan\n",
    "        else: \n",
    "            raise ValueError(\"dataset needs to be in file path, it should be either 'OPENonOH' or OpenAPS\")\n",
    "        \n",
    "        df_list.append(df2)\n",
    "        \n"
   ]
  },
  {
   "cell_type": "code",
   "execution_count": null,
   "metadata": {},
   "outputs": [],
   "source": [
    "def main(dataset : str):\n",
    "    indir = f\"/home/reinhold/Daten/OPEN/{dataset}_Data/csv_per_measurement\"\n",
    "    outdir = f\"/home/reinhold/Daten/OPEN/{dataset}_Data/csv_per_day/\"\n",
    "    outfile_name = f\"entries_{dataset}.csv\"\n",
    "    df_list = []\n",
    "    all_csv(indir, df_list)\n",
    "    df = pd.concat(df_list, axis=0)\n",
    "    #print(df)\n",
    "    #df.info()\n",
    "    df.to_csv(os.path.join(outdir, outfile_name))\n",
    "    print(os.path.join(outdir, outfile_name) + \" created\")\n"
   ]
  },
  {
   "cell_type": "code",
   "execution_count": null,
   "metadata": {},
   "outputs": [],
   "source": [
    "dataset = \"OpenAPS\"\n",
    "main(dataset)"
   ]
  },
  {
   "cell_type": "code",
   "execution_count": null,
   "metadata": {},
   "outputs": [],
   "source": [
    "dataset = \"OPENonOH\"\n",
    "main(dataset)\n"
   ]
  }
 ],
 "metadata": {
  "interpreter": {
   "hash": "916dbcbb3f70747c44a77c7bcd40155683ae19c65e1c03b4aa3499c5328201f1"
  },
  "kernelspec": {
   "display_name": "Python 3.8.10 64-bit",
   "language": "python",
   "name": "python3"
  },
  "language_info": {
   "codemirror_mode": {
    "name": "ipython",
    "version": 3
   },
   "file_extension": ".py",
   "mimetype": "text/x-python",
   "name": "python",
   "nbconvert_exporter": "python",
   "pygments_lexer": "ipython3",
   "version": "3.8.10"
  },
  "orig_nbformat": 4
 },
 "nbformat": 4,
 "nbformat_minor": 2
}
